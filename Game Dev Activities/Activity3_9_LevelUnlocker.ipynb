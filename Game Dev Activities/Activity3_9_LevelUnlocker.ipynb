{
 "cells": [
  {
   "cell_type": "markdown",
   "id": "8ab1a5ed",
   "metadata": {},
   "source": [
    "# 🗝️ Level Unlocker\n",
    "Simulates a level unlocking system based on points earned."
   ]
  },
  {
   "cell_type": "markdown",
   "id": "760fd76d",
   "metadata": {},
   "source": [
    "## ✅ Skills Covered\n",
    "- Conditional rendering\n",
    "- Progression logic"
   ]
  },
  {
   "cell_type": "code",
   "execution_count": null,
   "id": "4a20f1fe",
   "metadata": {},
   "outputs": [],
   "source": [
    "from IPython.display import display, HTML\n",
    "\n",
    "html = '''\n",
    "<p>Enter your score to see which level you unlock:</p>\n",
    "<input type='number' id='scoreInput' onchange='checkLevel()'>\n",
    "<p id='output'></p>\n",
    "<script>\n",
    "function checkLevel() {\n",
    "  let score = parseInt(document.getElementById(\"scoreInput\").value);\n",
    "  let result = \"\";\n",
    "  if (score >= 100) result = \"🏆 Level 3 Unlocked!\";\n",
    "  else if (score >= 50) result = \"⭐ Level 2 Unlocked!\";\n",
    "  else result = \"🔒 Still at Level 1.\";\n",
    "  document.getElementById(\"output\").innerText = result;\n",
    "}\n",
    "</script>\n",
    "'''\n",
    "display(HTML(html))"
   ]
  }
 ],
 "metadata": {
  "language_info": {
   "name": "python"
  }
 },
 "nbformat": 4,
 "nbformat_minor": 5
}

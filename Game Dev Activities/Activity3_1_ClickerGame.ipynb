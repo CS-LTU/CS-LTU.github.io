{
 "cells": [
  {
   "cell_type": "markdown",
   "id": "11846c87",
   "metadata": {},
   "source": [
    "# 🖱️ Clicker Game\n",
    "Build a simple game where the player clicks a button to earn points."
   ]
  },
  {
   "cell_type": "markdown",
   "id": "1fcc467c",
   "metadata": {},
   "source": [
    "## ✅ Skills Covered\n",
    "- JavaScript logic in browser context\n",
    "- UI interaction"
   ]
  },
  {
   "cell_type": "code",
   "execution_count": 1,
   "id": "f98aad40",
   "metadata": {},
   "outputs": [
    {
     "data": {
      "text/html": [
       "\n",
       "<div style='text-align:center;'>\n",
       "  <h2>Click the Button!</h2>\n",
       "  <button onclick='score++ ; document.getElementById(\"score\").innerText = score;'>Click Me!</button>\n",
       "  <p>Score: <span id='score'>0</span></p>\n",
       "</div>\n",
       "<script>\n",
       "  let score = 0;\n",
       "</script>\n"
      ],
      "text/plain": [
       "<IPython.core.display.HTML object>"
      ]
     },
     "metadata": {},
     "output_type": "display_data"
    }
   ],
   "source": [
    "from IPython.display import display, HTML\n",
    "\n",
    "game_html = '''\n",
    "<div style='text-align:center;'>\n",
    "  <h2>Click the Button!</h2>\n",
    "  <button onclick='score++ ; document.getElementById(\"score\").innerText = score;'>Click Me!</button>\n",
    "  <p>Score: <span id='score'>0</span></p>\n",
    "</div>\n",
    "<script>\n",
    "  let score = 0;\n",
    "</script>\n",
    "'''\n",
    "\n",
    "display(HTML(game_html))"
   ]
  }
 ],
 "metadata": {
  "kernelspec": {
   "display_name": "Python 3",
   "language": "python",
   "name": "python3"
  },
  "language_info": {
   "codemirror_mode": {
    "name": "ipython",
    "version": 3
   },
   "file_extension": ".py",
   "mimetype": "text/x-python",
   "name": "python",
   "nbconvert_exporter": "python",
   "pygments_lexer": "ipython3",
   "version": "3.11.1"
  }
 },
 "nbformat": 4,
 "nbformat_minor": 5
}

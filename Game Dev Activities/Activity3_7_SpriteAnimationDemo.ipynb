{
 "cells": [
  {
   "cell_type": "markdown",
   "id": "74ebd826",
   "metadata": {},
   "source": [
    "# 🕹️ Sprite Animation Demo\n",
    "Display basic sprite sheet animation using p5.js."
   ]
  },
  {
   "cell_type": "markdown",
   "id": "69418bab",
   "metadata": {},
   "source": [
    "## ✅ Skills Covered\n",
    "- Frame-based animation\n",
    "- Sprite control"
   ]
  },
  {
   "cell_type": "code",
   "execution_count": null,
   "id": "2a1b705b",
   "metadata": {},
   "outputs": [],
   "source": [
    "from IPython.display import display, HTML\n",
    "\n",
    "html = '''\n",
    "<iframe width=\"100%\" height=\"300\" src=\"https://editor.p5js.org/embed/BJ_Y-KaE8\"></iframe>\n",
    "<p>This example shows a running sprite using p5.js animation frames.</p>\n",
    "'''\n",
    "display(HTML(html))"
   ]
  }
 ],
 "metadata": {
  "language_info": {
   "name": "python"
  }
 },
 "nbformat": 4,
 "nbformat_minor": 5
}

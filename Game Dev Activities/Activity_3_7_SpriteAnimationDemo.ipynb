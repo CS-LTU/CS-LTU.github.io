{
 "cells": [
  {
   "cell_type": "markdown",
   "id": "c019cf04",
   "metadata": {},
   "source": [
    "## 🕹️ Sprite Animation Demo – Step-by-Step Build"
   ]
  },
  {
   "cell_type": "markdown",
   "id": "b6803f83",
   "metadata": {},
   "source": [
    "### 🎯 Task 1: Create an HTML canvas and load a sprite image\n",
    "Set up the canvas and preload a sprite sheet image to use for animation."
   ]
  },
  {
   "cell_type": "code",
   "execution_count": null,
   "id": "aed71d30",
   "metadata": {},
   "outputs": [],
   "source": [
    "from IPython.display import display, HTML\n",
    "\n",
    "display(HTML('''\n",
    "<!DOCTYPE html>\n",
    "<html>\n",
    "<head>\n",
    "  <style>\n",
    "    body { text-align: center; font-family: Arial; }\n",
    "    canvas { border: 1px solid black; }\n",
    "  </style>\n",
    "</head>\n",
    "<body>\n",
    "  <h2>Sprite Animation Demo</h2>\n",
    "  <canvas id=\"gameCanvas\" width=\"256\" height=\"256\"></canvas>\n",
    "\n",
    "  <script>\n",
    "    const canvas = document.getElementById(\"gameCanvas\");\n",
    "    const ctx = canvas.getContext(\"2d\");\n",
    "    const sprite = new Image();\n",
    "    sprite.src = \"https://opengameart.org/sites/default/files/Green-Cap-Character-16x18.png\";\n",
    "\n",
    "    sprite.onload = function() {\n",
    "      ctx.drawImage(sprite, 0, 0, 16, 18, 120, 120, 32, 36);\n",
    "    };\n",
    "  </script>\n",
    "</body>\n",
    "</html>\n",
    "'''))"
   ]
  },
  {
   "cell_type": "markdown",
   "id": "bccd919c",
   "metadata": {},
   "source": [
    "✅ This sets up your canvas and loads a single frame from the sprite."
   ]
  },
  {
   "cell_type": "markdown",
   "id": "1864d64e",
   "metadata": {},
   "source": [
    "### 🎯 Task 2: Animate the sprite using multiple frames"
   ]
  },
  {
   "cell_type": "code",
   "execution_count": null,
   "id": "9abb638c",
   "metadata": {},
   "outputs": [],
   "source": [
    "display(HTML('''\n",
    "<!DOCTYPE html>\n",
    "<html>\n",
    "<head>\n",
    "  <style>\n",
    "    body { text-align: center; font-family: Arial; }\n",
    "    canvas { border: 1px solid black; }\n",
    "  </style>\n",
    "</head>\n",
    "<body>\n",
    "  <h2>Sprite Animation Demo</h2>\n",
    "  <canvas id=\"gameCanvas\" width=\"256\" height=\"256\"></canvas>\n",
    "\n",
    "  <script>\n",
    "    const canvas = document.getElementById(\"gameCanvas\");\n",
    "    const ctx = canvas.getContext(\"2d\");\n",
    "    const sprite = new Image();\n",
    "    sprite.src = \"https://opengameart.org/sites/default/files/Green-Cap-Character-16x18.png\";\n",
    "\n",
    "    let frameIndex = 0;\n",
    "    const frameWidth = 16;\n",
    "    const frameHeight = 18;\n",
    "    const totalFrames = 6;\n",
    "\n",
    "    function drawFrame() {\n",
    "      ctx.clearRect(0, 0, canvas.width, canvas.height);\n",
    "      ctx.drawImage(sprite, frameIndex * frameWidth, 0, frameWidth, frameHeight, 120, 120, 32, 36);\n",
    "      frameIndex = (frameIndex + 1) % totalFrames;\n",
    "    }\n",
    "\n",
    "    sprite.onload = function() {\n",
    "      setInterval(drawFrame, 150);\n",
    "    };\n",
    "  </script>\n",
    "</body>\n",
    "</html>\n",
    "'''))"
   ]
  },
  {
   "cell_type": "markdown",
   "id": "b1582ae1",
   "metadata": {},
   "source": [
    "✅ This code cycles through the sprite frames to create a walking animation effect."
   ]
  }
 ],
 "metadata": {},
 "nbformat": 4,
 "nbformat_minor": 5
}

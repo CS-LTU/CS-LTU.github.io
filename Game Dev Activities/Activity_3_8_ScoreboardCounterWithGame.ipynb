{
 "cells": [
  {
   "cell_type": "markdown",
   "id": "c159349c",
   "metadata": {},
   "source": [
    "## 🧮 Scoreboard Counter with Interactive Game"
   ]
  },
  {
   "cell_type": "markdown",
   "id": "3219ec18",
   "metadata": {},
   "source": [
    "\n",
    "This mini project demonstrates how to:\n",
    "- Create a scoreboard counter in HTML and JavaScript\n",
    "- Use it in a simple interactive game: **Click the Target**\n"
   ]
  },
  {
   "cell_type": "markdown",
   "id": "81ac067c",
   "metadata": {},
   "source": [
    "### 🎯 Task 1: Create a Scoreboard Counter UI"
   ]
  },
  {
   "cell_type": "code",
   "execution_count": null,
   "id": "0f1aa09c",
   "metadata": {},
   "outputs": [],
   "source": [
    "from IPython.display import display, HTML\n",
    "\n",
    "display(HTML('''\n",
    "<!DOCTYPE html>\n",
    "<html>\n",
    "<head>\n",
    "  <style>\n",
    "    body { text-align: center; font-family: Arial; margin-top: 50px; }\n",
    "    #score { font-size: 30px; margin-bottom: 20px; }\n",
    "    button { font-size: 20px; padding: 10px 20px; }\n",
    "  </style>\n",
    "</head>\n",
    "<body>\n",
    "  <div id=\"score\">Score: 0</div>\n",
    "  <button onclick=\"increaseScore()\">+1 Point</button>\n",
    "  <script>\n",
    "    let score = 0;\n",
    "    function increaseScore() {\n",
    "      score++;\n",
    "      document.getElementById('score').innerText = \"Score: \" + score;\n",
    "    }\n",
    "  </script>\n",
    "</body>\n",
    "</html>\n",
    "'''))"
   ]
  },
  {
   "cell_type": "markdown",
   "id": "5449a6e1",
   "metadata": {},
   "source": [
    "✅ This sets up a basic counter with a button to increase the score."
   ]
  },
  {
   "cell_type": "markdown",
   "id": "a3761c8e",
   "metadata": {},
   "source": [
    "### 🎮 Task 2: Click the Target Game with Scoreboard"
   ]
  },
  {
   "cell_type": "code",
   "execution_count": null,
   "id": "37e2cc5b",
   "metadata": {},
   "outputs": [],
   "source": [
    "display(HTML('''\n",
    "<!DOCTYPE html>\n",
    "<html>\n",
    "<head>\n",
    "  <style>\n",
    "    body { text-align: center; font-family: Arial; }\n",
    "    canvas { border: 1px solid black; display: block; margin: 20px auto; }\n",
    "    #score { font-size: 24px; }\n",
    "  </style>\n",
    "</head>\n",
    "<body>\n",
    "  <h2>🎯 Click the Target Game</h2>\n",
    "  <div id=\"score\">Score: 0</div>\n",
    "  <canvas id=\"gameCanvas\" width=\"400\" height=\"300\"></canvas>\n",
    "\n",
    "  <script>\n",
    "    const canvas = document.getElementById(\"gameCanvas\");\n",
    "    const ctx = canvas.getContext(\"2d\");\n",
    "    const scoreDisplay = document.getElementById(\"score\");\n",
    "    let score = 0;\n",
    "\n",
    "    let target = {\n",
    "      x: Math.random() * 360 + 20,\n",
    "      y: Math.random() * 260 + 20,\n",
    "      radius: 20\n",
    "    };\n",
    "\n",
    "    function drawTarget() {\n",
    "      ctx.clearRect(0, 0, canvas.width, canvas.height);\n",
    "      ctx.beginPath();\n",
    "      ctx.arc(target.x, target.y, target.radius, 0, Math.PI * 2);\n",
    "      ctx.fillStyle = \"red\";\n",
    "      ctx.fill();\n",
    "      ctx.closePath();\n",
    "    }\n",
    "\n",
    "    canvas.addEventListener(\"click\", function(evt) {\n",
    "      const rect = canvas.getBoundingClientRect();\n",
    "      const x = evt.clientX - rect.left;\n",
    "      const y = evt.clientY - rect.top;\n",
    "      const dx = x - target.x;\n",
    "      const dy = y - target.y;\n",
    "\n",
    "      if (Math.sqrt(dx * dx + dy * dy) < target.radius) {\n",
    "        score++;\n",
    "        scoreDisplay.textContent = \"Score: \" + score;\n",
    "        target.x = Math.random() * 360 + 20;\n",
    "        target.y = Math.random() * 260 + 20;\n",
    "        drawTarget();\n",
    "      }\n",
    "    });\n",
    "\n",
    "    drawTarget();\n",
    "  </script>\n",
    "</body>\n",
    "</html>\n",
    "'''))"
   ]
  },
  {
   "cell_type": "markdown",
   "id": "84aac19a",
   "metadata": {},
   "source": [
    "✅ Now students can click on the red circle to score points!"
   ]
  }
 ],
 "metadata": {},
 "nbformat": 4,
 "nbformat_minor": 5
}

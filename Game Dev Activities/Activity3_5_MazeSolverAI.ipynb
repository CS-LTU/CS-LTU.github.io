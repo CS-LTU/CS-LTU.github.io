{
 "cells": [
  {
   "cell_type": "markdown",
   "id": "157bdd39",
   "metadata": {},
   "source": [
    "# 🧩 Maze Solver AI\n",
    "Visualize how a simple AI solves a maze using basic pathfinding."
   ]
  },
  {
   "cell_type": "markdown",
   "id": "969f19a1",
   "metadata": {},
   "source": [
    "## ✅ Skills Covered\n",
    "- Grid systems\n",
    "- Step-by-step logic\n",
    "- AI solving techniques"
   ]
  },
  {
   "cell_type": "code",
   "execution_count": null,
   "id": "14258860",
   "metadata": {},
   "outputs": [],
   "source": [
    "from IPython.display import display, HTML\n",
    "\n",
    "display(HTML(\"\"\"\n",
    "<iframe width='100%' height='300' src='https://editor.p5js.org/embed/BkYJzFxE8'></iframe>\n",
    "<p>This sketch uses DFS to solve a maze.</p>\n",
    "\"\"\"))"
   ]
  }
 ],
 "metadata": {
  "language_info": {
   "name": "python"
  }
 },
 "nbformat": 4,
 "nbformat_minor": 5
}

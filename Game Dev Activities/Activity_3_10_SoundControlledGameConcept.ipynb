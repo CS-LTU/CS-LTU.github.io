{
 "cells": [
  {
   "cell_type": "markdown",
   "id": "aec58274",
   "metadata": {},
   "source": [
    "# 🔊 Sound Controlled Game (Concept)\n",
    "\n",
    "This notebook demonstrates how sound input can be used to control a simple game, using microphone access and pitch/volume detection."
   ]
  },
  {
   "cell_type": "markdown",
   "id": "f22d029b",
   "metadata": {},
   "source": [
    "## 🎯 Task 1: Set up HTML and JavaScript for microphone access\n",
    "We begin by creating a basic structure to request and use microphone input in the browser."
   ]
  },
  {
   "cell_type": "markdown",
   "id": "57dae142",
   "metadata": {},
   "source": [
    "<!DOCTYPE html>\n",
    "<html>\n",
    "<head>\n",
    "  <title>Sound Controlled Game</title>\n",
    "</head>\n",
    "<body>\n",
    "  <h2>Make noise to move the ball up!</h2>\n",
    "  <canvas id=\"gameCanvas\" width=\"400\" height=\"300\"></canvas>\n",
    "  <script>\n",
    "    const canvas = document.getElementById(\"gameCanvas\");\n",
    "    const ctx = canvas.getContext(\"2d\");\n",
    "\n",
    "    let y = canvas.height / 2;\n",
    "    let velocity = 0;\n",
    "\n",
    "    function drawBall() {\n",
    "      ctx.clearRect(0, 0, canvas.width, canvas.height);\n",
    "      ctx.beginPath();\n",
    "      ctx.arc(200, y, 15, 0, Math.PI * 2);\n",
    "      ctx.fillStyle = \"blue\";\n",
    "      ctx.fill();\n",
    "    }\n",
    "\n",
    "    function update() {\n",
    "      velocity += 1; // gravity\n",
    "      y += velocity;\n",
    "      if (y > canvas.height - 15) {\n",
    "        y = canvas.height - 15;\n",
    "        velocity = 0;\n",
    "      }\n",
    "      if (y < 15) {\n",
    "        y = 15;\n",
    "        velocity = 0;\n",
    "      }\n",
    "      drawBall();\n",
    "    }\n",
    "\n",
    "    setInterval(update, 50);\n",
    "  </script>\n",
    "</body>\n",
    "</html>"
   ]
  },
  {
   "cell_type": "markdown",
   "id": "09256369",
   "metadata": {},
   "source": [
    "This HTML and JavaScript sets up a ball that is affected by gravity inside a canvas."
   ]
  },
  {
   "cell_type": "markdown",
   "id": "4095f0da",
   "metadata": {},
   "source": [
    "## 🎤 Task 2: Use microphone input to control the ball\n",
    "Now we access the user's microphone and raise the ball when a loud sound is detected."
   ]
  },
  {
   "cell_type": "code",
   "execution_count": null,
   "id": "b66f32c2",
   "metadata": {},
   "outputs": [],
   "source": [
    "navigator.mediaDevices.getUserMedia({ audio: true })\n",
    "  .then(function(stream) {\n",
    "    const context = new AudioContext();\n",
    "    const source = context.createMediaStreamSource(stream);\n",
    "    const analyser = context.createAnalyser();\n",
    "    source.connect(analyser);\n",
    "    const data = new Uint8Array(analyser.frequencyBinCount);\n",
    "\n",
    "    function listen() {\n",
    "      analyser.getByteFrequencyData(data);\n",
    "      let volume = data.reduce((a, b) => a + b, 0) / data.length;\n",
    "      if (volume > 50) {\n",
    "        velocity = -10;\n",
    "      }\n",
    "      setTimeout(listen, 100);\n",
    "    }\n",
    "\n",
    "    listen();\n",
    "  });"
   ]
  },
  {
   "cell_type": "markdown",
   "id": "f89d4704",
   "metadata": {},
   "source": [
    "This code captures audio and measures volume. If loud enough, it sets a negative velocity to make the ball jump upward."
   ]
  },
  {
   "cell_type": "markdown",
   "id": "f9f165ba",
   "metadata": {},
   "source": [
    "➡️ Try the [HTML version](#) for a live browser-based sound-controlled experience."
   ]
  }
 ],
 "metadata": {
  "language_info": {
   "name": "python"
  }
 },
 "nbformat": 4,
 "nbformat_minor": 5
}

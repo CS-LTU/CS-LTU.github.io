{
 "cells": [
  {
   "cell_type": "markdown",
   "id": "0cda29e4",
   "metadata": {},
   "source": [
    "## ⌨️ Typing Speed Game – Build Part-by-Part\n"
   ]
  },
  {
   "cell_type": "markdown",
   "id": "7f0f2cc9",
   "metadata": {},
   "source": [
    "### 🧠 Task 1: Create a simple interface with a start button and display area\n",
    "Create an HTML page with:\n",
    "- A button to start the game\n",
    "- A section to display the word\n",
    "- An input box for typing"
   ]
  },
  {
   "cell_type": "code",
   "execution_count": null,
   "id": "bfc3f551",
   "metadata": {},
   "outputs": [],
   "source": [
    "from IPython.display import display, HTML\n",
    "\n",
    "display(HTML('''\n",
    "<!DOCTYPE html>\n",
    "<html>\n",
    "<head>\n",
    "  <style>\n",
    "    body { font-family: sans-serif; text-align: center; margin-top: 50px; }\n",
    "    #word { font-size: 24px; margin: 20px; }\n",
    "    #inputArea { font-size: 18px; }\n",
    "  </style>\n",
    "</head>\n",
    "<body>\n",
    "  <h2>Typing Speed Game</h2>\n",
    "  <div id=\"word\">Click Start to begin</div>\n",
    "  <input type=\"text\" id=\"inputArea\" placeholder=\"Type here...\" disabled />\n",
    "  <br><br>\n",
    "  <button onclick=\"startGame()\">Start</button>\n",
    "\n",
    "  <script>\n",
    "    function startGame() {\n",
    "      document.getElementById('word').textContent = 'apple';\n",
    "      document.getElementById('inputArea').disabled = false;\n",
    "      document.getElementById('inputArea').focus();\n",
    "    }\n",
    "  </script>\n",
    "</body>\n",
    "</html>\n",
    "'''))"
   ]
  },
  {
   "cell_type": "markdown",
   "id": "c47db722",
   "metadata": {},
   "source": [
    "✅ This code sets up the game's interface. We’ll add logic to randomize words and measure time next."
   ]
  },
  {
   "cell_type": "markdown",
   "id": "a4e75f35",
   "metadata": {},
   "source": [
    "### 🧠 Task 2: Add word list, timer, and accuracy measurement"
   ]
  },
  {
   "cell_type": "code",
   "execution_count": null,
   "id": "ad710a8f",
   "metadata": {},
   "outputs": [],
   "source": [
    "display(HTML('''\n",
    "<!DOCTYPE html>\n",
    "<html>\n",
    "<head>\n",
    "  <style>\n",
    "    body { font-family: sans-serif; text-align: center; margin-top: 50px; }\n",
    "    #word { font-size: 24px; margin: 20px; }\n",
    "    #inputArea { font-size: 18px; }\n",
    "    #results { margin-top: 20px; }\n",
    "  </style>\n",
    "</head>\n",
    "<body>\n",
    "  <h2>Typing Speed Game</h2>\n",
    "  <div id=\"word\">Click Start to begin</div>\n",
    "  <input type=\"text\" id=\"inputArea\" placeholder=\"Type here...\" disabled oninput=\"checkInput()\" />\n",
    "  <br><br>\n",
    "  <button onclick=\"startGame()\">Start</button>\n",
    "  <div id=\"results\"></div>\n",
    "\n",
    "  <script>\n",
    "    const words = ['apple', 'banana', 'orange', 'grape', 'peach', 'plum', 'kiwi'];\n",
    "    let currentWord = '';\n",
    "    let startTime;\n",
    "\n",
    "    function startGame() {\n",
    "      document.getElementById('results').textContent = '';\n",
    "      currentWord = words[Math.floor(Math.random() * words.length)];\n",
    "      document.getElementById('word').textContent = currentWord;\n",
    "      document.getElementById('inputArea').value = '';\n",
    "      document.getElementById('inputArea').disabled = false;\n",
    "      document.getElementById('inputArea').focus();\n",
    "      startTime = new Date();\n",
    "    }\n",
    "\n",
    "    function checkInput() {\n",
    "      const input = document.getElementById('inputArea').value;\n",
    "      if (input === currentWord) {\n",
    "        const endTime = new Date();\n",
    "        const timeTaken = ((endTime - startTime) / 1000).toFixed(2);\n",
    "        document.getElementById('results').textContent = `✅ Correct! Time: ${timeTaken} seconds`;\n",
    "        document.getElementById('inputArea').disabled = true;\n",
    "      }\n",
    "    }\n",
    "  </script>\n",
    "</body>\n",
    "</html>\n",
    "'''))"
   ]
  },
  {
   "cell_type": "markdown",
   "id": "dd3da9a2",
   "metadata": {},
   "source": [
    "✅ This version randomizes a word and measures the time taken to type it correctly."
   ]
  }
 ],
 "metadata": {},
 "nbformat": 4,
 "nbformat_minor": 5
}

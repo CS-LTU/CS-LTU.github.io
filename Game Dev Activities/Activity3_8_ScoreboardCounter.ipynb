{
 "cells": [
  {
   "cell_type": "markdown",
   "id": "8c2ba170",
   "metadata": {},
   "source": [
    "# 📊 Scoreboard Counter\n",
    "A simple counter demo with HTML/JavaScript buttons."
   ]
  },
  {
   "cell_type": "markdown",
   "id": "c4849939",
   "metadata": {},
   "source": [
    "## ✅ Skills Covered\n",
    "- DOM interaction\n",
    "- Score tracking logic"
   ]
  },
  {
   "cell_type": "code",
   "execution_count": null,
   "id": "46adfc68",
   "metadata": {},
   "outputs": [],
   "source": [
    "from IPython.display import display, HTML\n",
    "\n",
    "html = '''\n",
    "<h3>Scoreboard</h3>\n",
    "<p>Score: <span id=\"score\">0</span></p>\n",
    "<button onclick=\"score++; updateScore();\">+1</button>\n",
    "<button onclick=\"score--; updateScore();\">-1</button>\n",
    "<script>\n",
    "  let score = 0;\n",
    "  function updateScore() {\n",
    "    document.getElementById(\"score\").innerText = score;\n",
    "  }\n",
    "</script>\n",
    "'''\n",
    "display(HTML(html))"
   ]
  }
 ],
 "metadata": {
  "language_info": {
   "name": "python"
  }
 },
 "nbformat": 4,
 "nbformat_minor": 5
}

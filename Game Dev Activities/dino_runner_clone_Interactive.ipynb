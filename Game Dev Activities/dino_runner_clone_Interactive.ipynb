{
 "cells": [
  {
   "cell_type": "markdown",
   "id": "ffd2acfc",
   "metadata": {},
   "source": [
    "# 🦖 Dino Runner Clone – Step-by-Step Game\n",
    "\n",
    "This notebook walks you through building a basic version of the famous Dino Runner game using HTML and JavaScript.\n",
    "\n",
    "Each step has:\n",
    "- ✅ A task\n",
    "- 🛠 A solution\n",
    "- 🧠 An explanation"
   ]
  },
  {
   "cell_type": "markdown",
   "id": "b9d6d048",
   "metadata": {},
   "source": [
    "## ✅ Task 1: Set up the game structure\n",
    "Create a canvas and a few game elements to start."
   ]
  },
  {
   "cell_type": "code",
   "execution_count": null,
   "id": "808f5871",
   "metadata": {},
   "outputs": [],
   "source": [
    "%%writefile /mnt/data/final_html_games/game/dino_runner_clone.html\n",
    "<!DOCTYPE html>\n",
    "<html>\n",
    "<head>\n",
    "  <title>Dino Runner Clone</title>\n",
    "  <style>\n",
    "    canvas { background: #f4f4f4; display: block; margin: auto; }\n",
    "  </style>\n",
    "</head>\n",
    "<body>\n",
    "  <canvas id=\"gameCanvas\" width=\"800\" height=\"200\"></canvas>\n",
    "  <script>\n",
    "    const canvas = document.getElementById('gameCanvas');\n",
    "    const ctx = canvas.getContext('2d');\n",
    "\n",
    "    let dino = { x: 50, y: 150, width: 40, height: 40, vy: 0, jumping: false };\n",
    "    let gravity = 1.5;\n",
    "\n",
    "    function drawDino() {\n",
    "      ctx.fillStyle = 'green';\n",
    "      ctx.fillRect(dino.x, dino.y, dino.width, dino.height);\n",
    "    }\n",
    "\n",
    "    function gameLoop() {\n",
    "      ctx.clearRect(0, 0, canvas.width, canvas.height);\n",
    "\n",
    "      // Gravity & jumping\n",
    "      if (dino.jumping) {\n",
    "        dino.vy += gravity;\n",
    "        dino.y += dino.vy;\n",
    "        if (dino.y >= 150) {\n",
    "          dino.y = 150;\n",
    "          dino.jumping = false;\n",
    "          dino.vy = 0;\n",
    "        }\n",
    "      }\n",
    "\n",
    "      drawDino();\n",
    "      requestAnimationFrame(gameLoop);\n",
    "    }\n",
    "\n",
    "    document.addEventListener('keydown', function(e) {\n",
    "      if (e.code === 'Space' && !dino.jumping) {\n",
    "        dino.jumping = true;\n",
    "        dino.vy = -20;\n",
    "      }\n",
    "    });\n",
    "\n",
    "    gameLoop();\n",
    "  </script>\n",
    "</body>\n",
    "</html>"
   ]
  },
  {
   "cell_type": "markdown",
   "id": "21256dab",
   "metadata": {},
   "source": [
    "### 🧠 Explanation:\n",
    "- A `canvas` is used to draw the game.\n",
    "- A `dino` object holds the position and jumping state.\n",
    "- The `gameLoop()` updates the screen and applies gravity.\n",
    "- Pressing space triggers the jump by modifying velocity."
   ]
  }
 ],
 "metadata": {},
 "nbformat": 4,
 "nbformat_minor": 5
}

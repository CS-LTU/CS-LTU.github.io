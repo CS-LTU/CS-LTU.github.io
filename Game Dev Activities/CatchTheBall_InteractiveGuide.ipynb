{
 "cells": [
  {
   "cell_type": "markdown",
   "id": "312831f7",
   "metadata": {},
   "source": [
    "# 🏀 Catch the Ball – Guided Game Development\n",
    "\n",
    "This notebook will guide you through building a complete 'Catch the Ball' game in the browser using HTML and JavaScript.\n",
    "\n",
    "Each step contains:\n",
    "- A **task** describing what you need to do.\n",
    "- A **solution** with the code you can use or modify.\n",
    "- An **explanation** of how that code works.\n",
    "\n",
    "Let's get started!"
   ]
  },
  {
   "cell_type": "markdown",
   "id": "f8dac66a",
   "metadata": {},
   "source": [
    "## 🧩 Task 1: Create the HTML and Canvas\n",
    "Create a basic HTML page that includes a canvas element. This canvas will be where your game takes place."
   ]
  },
  {
   "cell_type": "code",
   "execution_count": null,
   "id": "bc353636",
   "metadata": {},
   "outputs": [],
   "source": [
    "%%writefile task1_canvas.html\n",
    "<!DOCTYPE html>\n",
    "<html>\n",
    "<head>\n",
    "  <title>Catch the Ball - Task 1</title>\n",
    "</head>\n",
    "<body>\n",
    "  <canvas id=\"gameCanvas\" width=\"480\" height=\"320\" style=\"border:1px solid #000000;\"></canvas>\n",
    "</body>\n",
    "</html>"
   ]
  },
  {
   "cell_type": "markdown",
   "id": "5f382acf",
   "metadata": {},
   "source": [
    "### ✅ Explanation:\n",
    "This code sets up a basic HTML page with a `<canvas>` element where the game will be drawn. The `id=\"gameCanvas\"` will help us reference it in JavaScript later, and the width and height define the play area."
   ]
  },
  {
   "cell_type": "markdown",
   "id": "77be7250",
   "metadata": {},
   "source": [
    "## 🧩 Task 2: Setup JavaScript to Access the Canvas\n",
    "Now that we have a canvas, let’s write JavaScript to access and draw something on it."
   ]
  },
  {
   "cell_type": "code",
   "execution_count": null,
   "id": "b00cfad7",
   "metadata": {},
   "outputs": [],
   "source": [
    "%%writefile task2_canvas_script.html\n",
    "<!DOCTYPE html>\n",
    "<html>\n",
    "<head>\n",
    "  <title>Catch the Ball - Task 2</title>\n",
    "</head>\n",
    "<body>\n",
    "  <canvas id=\"gameCanvas\" width=\"480\" height=\"320\" style=\"border:1px solid #000000;\"></canvas>\n",
    "  <script>\n",
    "    const canvas = document.getElementById(\"gameCanvas\");\n",
    "    const ctx = canvas.getContext(\"2d\");\n",
    "    ctx.fillStyle = \"blue\";\n",
    "    ctx.fillRect(50, 50, 100, 100);\n",
    "  </script>\n",
    "</body>\n",
    "</html>"
   ]
  },
  {
   "cell_type": "markdown",
   "id": "90c5581d",
   "metadata": {},
   "source": [
    "### ✅ Explanation:\n",
    "The JavaScript code gets the canvas by ID and uses the `getContext('2d')` method to draw a filled rectangle. This helps confirm your JavaScript is successfully interacting with the canvas."
   ]
  },
  {
   "cell_type": "markdown",
   "id": "6163021f",
   "metadata": {},
   "source": [
    "## 🧩 Task 3: Draw a Ball That Falls\n",
    "Use JavaScript to draw a ball (circle) that falls from the top to the bottom of the canvas."
   ]
  },
  {
   "cell_type": "code",
   "execution_count": null,
   "id": "56094165",
   "metadata": {},
   "outputs": [],
   "source": [
    "%%writefile task3_ball_fall.html\n",
    "<!DOCTYPE html>\n",
    "<html>\n",
    "<head>\n",
    "  <title>Catch the Ball - Task 3</title>\n",
    "  <style>\n",
    "    body { margin: 0; overflow: hidden; }\n",
    "    canvas { display: block; margin: 0 auto; background-color: #f0f8ff; }\n",
    "  </style>\n",
    "</head>\n",
    "<body>\n",
    "<canvas id=\"gameCanvas\" width=\"480\" height=\"320\"></canvas>\n",
    "<script>\n",
    "  const canvas = document.getElementById('gameCanvas');\n",
    "  const ctx = canvas.getContext('2d');\n",
    "\n",
    "  let ballY = 0;\n",
    "  let ballX = Math.random() * (canvas.width - 20);\n",
    "\n",
    "  function drawBall() {\n",
    "    ctx.clearRect(0, 0, canvas.width, canvas.height);\n",
    "    ctx.beginPath();\n",
    "    ctx.arc(ballX, ballY, 10, 0, Math.PI * 2);\n",
    "    ctx.fillStyle = \"#ff5722\";\n",
    "    ctx.fill();\n",
    "    ctx.closePath();\n",
    "\n",
    "    ballY += 2;\n",
    "    requestAnimationFrame(drawBall);\n",
    "  }\n",
    "\n",
    "  drawBall();\n",
    "</script>\n",
    "</body>\n",
    "</html>"
   ]
  },
  {
   "cell_type": "markdown",
   "id": "aad5bec2",
   "metadata": {},
   "source": [
    "### ✅ Explanation:\n",
    "The `drawBall()` function uses `requestAnimationFrame()` to update the canvas repeatedly. The Y position of the ball is incremented each frame, making it fall downward smoothly."
   ]
  },
  {
   "cell_type": "markdown",
   "id": "dbd923b5",
   "metadata": {},
   "source": [
    "## 🎉 Now you’re ready to build the full game!\n",
    "In the final step, you’ll combine everything: add basket movement, ball catching logic, and scoring."
   ]
  }
 ],
 "metadata": {},
 "nbformat": 4,
 "nbformat_minor": 5
}

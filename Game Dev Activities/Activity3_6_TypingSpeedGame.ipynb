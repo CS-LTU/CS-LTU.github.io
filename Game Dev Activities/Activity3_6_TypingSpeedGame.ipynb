{
 "cells": [
  {
   "cell_type": "markdown",
   "id": "e0844f60",
   "metadata": {},
   "source": [
    "# ⌨️ Typing Speed Game\n",
    "A challenge to type as fast and accurately as possible."
   ]
  },
  {
   "cell_type": "markdown",
   "id": "e8e57b7f",
   "metadata": {},
   "source": [
    "## ✅ Skills Covered\n",
    "- Timer logic\n",
    "- Text input tracking"
   ]
  },
  {
   "cell_type": "code",
   "execution_count": null,
   "id": "abfad0d5",
   "metadata": {},
   "outputs": [],
   "source": [
    "from IPython.display import display, HTML\n",
    "\n",
    "html = '''\n",
    "<p>Try typing the sentence below as fast as you can!</p>\n",
    "<p><code>The quick brown fox jumps over the lazy dog</code></p>\n",
    "<input type='text' id='userInput' oninput='checkTyping()'>\n",
    "<p id='result'></p>\n",
    "<script>\n",
    "const correct = \"The quick brown fox jumps over the lazy dog\";\n",
    "function checkTyping() {\n",
    " let userText = document.getElementById(\"userInput\").value;\n",
    " document.getElementById(\"result\").innerText = userText === correct ? \"✅ Matched!\" : \"❌ Keep Typing...\";\n",
    "}\n",
    "</script>\n",
    "'''\n",
    "display(HTML(html))"
   ]
  }
 ],
 "metadata": {
  "language_info": {
   "name": "python"
  }
 },
 "nbformat": 4,
 "nbformat_minor": 5
}

{
 "cells": [
  {
   "cell_type": "markdown",
   "id": "220f1cb8",
   "metadata": {},
   "source": [
    "# 🔊 Sound Controlled Game (Concept)\n",
    "Use your voice to move a character in a concept simulation."
   ]
  },
  {
   "cell_type": "markdown",
   "id": "7ab4e3d5",
   "metadata": {},
   "source": [
    "## ✅ Skills Covered\n",
    "- Audio input (conceptual)\n",
    "- Interactive feedback"
   ]
  },
  {
   "cell_type": "code",
   "execution_count": null,
   "id": "60fc371f",
   "metadata": {},
   "outputs": [],
   "source": [
    "from IPython.display import display, HTML\n",
    "\n",
    "html = '''\n",
    "<p>This would require microphone permissions. See sample concept below:</p>\n",
    "<iframe width='100%' height='300' src='https://editor.p5js.org/embed/HydLMKaV8'></iframe>\n",
    "<p>Shout to make the object move!</p>\n",
    "'''\n",
    "display(HTML(html))"
   ]
  }
 ],
 "metadata": {
  "language_info": {
   "name": "python"
  }
 },
 "nbformat": 4,
 "nbformat_minor": 5
}

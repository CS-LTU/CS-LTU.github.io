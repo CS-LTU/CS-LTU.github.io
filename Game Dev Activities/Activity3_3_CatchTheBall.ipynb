{
 "cells": [
  {
   "cell_type": "markdown",
   "id": "814d8031",
   "metadata": {},
   "source": [
    "# 🎮 Catch the Ball\n",
    "Use p5.js to catch falling objects with a moving paddle."
   ]
  },
  {
   "cell_type": "markdown",
   "id": "c8bf0a14",
   "metadata": {},
   "source": [
    "## ✅ Skills Covered\n",
    "- Animation with p5.js\n",
    "- Collision detection and score tracking"
   ]
  },
  {
   "cell_type": "code",
   "execution_count": 1,
   "id": "9e56dbad",
   "metadata": {},
   "outputs": [
    {
     "data": {
      "text/html": [
       "\n",
       "<iframe src=\"https://editor.p5js.org/embed/HyhFZYuUn\" width=\"100%\" height=\"400\"></iframe>\n",
       "<p>Try catching the ball with your paddle using arrow keys.</p>\n"
      ],
      "text/plain": [
       "<IPython.core.display.HTML object>"
      ]
     },
     "metadata": {},
     "output_type": "display_data"
    }
   ],
   "source": [
    "from IPython.display import display, HTML\n",
    "\n",
    "display(HTML(\"\"\"\n",
    "<iframe src=\"https://editor.p5js.org/embed/HyhFZYuUn\" width=\"100%\" height=\"400\"></iframe>\n",
    "<p>Try catching the ball with your paddle using arrow keys.</p>\n",
    "\"\"\"))"
   ]
  }
 ],
 "metadata": {
  "kernelspec": {
   "display_name": "Python 3",
   "language": "python",
   "name": "python3"
  },
  "language_info": {
   "codemirror_mode": {
    "name": "ipython",
    "version": 3
   },
   "file_extension": ".py",
   "mimetype": "text/x-python",
   "name": "python",
   "nbconvert_exporter": "python",
   "pygments_lexer": "ipython3",
   "version": "3.11.1"
  }
 },
 "nbformat": 4,
 "nbformat_minor": 5
}

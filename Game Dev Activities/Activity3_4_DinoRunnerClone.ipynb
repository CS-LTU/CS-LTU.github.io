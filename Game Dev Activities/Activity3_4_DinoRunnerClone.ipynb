{
 "cells": [
  {
   "cell_type": "markdown",
   "id": "f31fff8b",
   "metadata": {},
   "source": [
    "# 🦖 Dino Runner Clone\n",
    "Build a simplified version of the classic Chrome Dino game."
   ]
  },
  {
   "cell_type": "markdown",
   "id": "8e06834c",
   "metadata": {},
   "source": [
    "## ✅ Skills Covered\n",
    "- Character animation\n",
    "- Obstacle generation"
   ]
  },
  {
   "cell_type": "code",
   "execution_count": 1,
   "id": "473d7042",
   "metadata": {},
   "outputs": [
    {
     "data": {
      "text/html": [
       "\n",
       "<iframe width=\"100%\" height=\"300\" src=\"https://editor.p5js.org/embed/HkUGwI3MU\"></iframe>\n",
       "<p>Jump with SPACE to avoid cacti!</p>\n"
      ],
      "text/plain": [
       "<IPython.core.display.HTML object>"
      ]
     },
     "metadata": {},
     "output_type": "display_data"
    }
   ],
   "source": [
    "from IPython.display import display, HTML\n",
    "\n",
    "html = '''\n",
    "<iframe width=\"100%\" height=\"300\" src=\"https://editor.p5js.org/embed/HkUGwI3MU\"></iframe>\n",
    "<p>Jump with SPACE to avoid cacti!</p>\n",
    "'''\n",
    "display(HTML(html))"
   ]
  }
 ],
 "metadata": {
  "kernelspec": {
   "display_name": "Python 3",
   "language": "python",
   "name": "python3"
  },
  "language_info": {
   "codemirror_mode": {
    "name": "ipython",
    "version": 3
   },
   "file_extension": ".py",
   "mimetype": "text/x-python",
   "name": "python",
   "nbconvert_exporter": "python",
   "pygments_lexer": "ipython3",
   "version": "3.11.1"
  }
 },
 "nbformat": 4,
 "nbformat_minor": 5
}

{
 "cells": [
  {
   "cell_type": "markdown",
   "id": "5e08e6db",
   "metadata": {},
   "source": [
    "# 🎮 Level Unlocker Game with Challenge\n",
    "This notebook explains how the interactive level-unlocking game works, with target-clicking gameplay."
   ]
  },
  {
   "cell_type": "markdown",
   "id": "40f44732",
   "metadata": {},
   "source": [
    "## 🔹 Task 1: Setup the Game Interface\n",
    "We will create three levels, each in a styled HTML container. The player will see score counters and canvases to play target-clicking games."
   ]
  },
  {
   "cell_type": "code",
   "execution_count": null,
   "id": "44a02b4c",
   "metadata": {},
   "outputs": [],
   "source": [
    "<!DOCTYPE html>\n",
    "<html>\n",
    "  <head>\n",
    "    <title>Level Unlocker Game</title>\n",
    "    <style>\n",
    "      .level { border: 2px solid black; padding: 10px; margin: 10px; }\n",
    "      .locked { background-color: #ddd; }\n",
    "      .unlocked { background-color: #cfc; }\n",
    "    </style>\n",
    "  </head>\n",
    "  <body>\n",
    "    <div id=\"level1\" class=\"level unlocked\">Level 1</div>\n",
    "    <div id=\"level2\" class=\"level locked\">Level 2</div>\n",
    "    <div id=\"level3\" class=\"level locked\">Level 3</div>\n",
    "  </body>\n",
    "</html>"
   ]
  },
  {
   "cell_type": "markdown",
   "id": "70a86da4",
   "metadata": {},
   "source": [
    "This sets up the visual layout of the levels using div blocks. Each level has a different class to indicate locked/unlocked status."
   ]
  },
  {
   "cell_type": "markdown",
   "id": "95a823ab",
   "metadata": {},
   "source": [
    "## 🔹 Task 2: Add Canvas for Target Clicking Game\n",
    "Each level has a canvas where a target will appear. The user clicks it to increase their score."
   ]
  },
  {
   "cell_type": "code",
   "execution_count": null,
   "id": "8bd58d1e",
   "metadata": {},
   "outputs": [],
   "source": [
    "<canvas id=\"canvas1\" width=\"300\" height=\"200\"></canvas>\n",
    "<script>\n",
    "let canvas = document.getElementById(\"canvas1\");\n",
    "let ctx = canvas.getContext(\"2d\");\n",
    "\n",
    "function drawTarget() {\n",
    "  ctx.clearRect(0, 0, canvas.width, canvas.height);\n",
    "  ctx.beginPath();\n",
    "  ctx.arc(150, 100, 20, 0, Math.PI * 2);\n",
    "  ctx.fillStyle = \"red\";\n",
    "  ctx.fill();\n",
    "}\n",
    "drawTarget();\n",
    "</script>"
   ]
  },
  {
   "cell_type": "markdown",
   "id": "bf09674b",
   "metadata": {},
   "source": [
    "This JavaScript draws a red circle in the canvas — the target the user will click."
   ]
  },
  {
   "cell_type": "markdown",
   "id": "9020b457",
   "metadata": {},
   "source": [
    "## 🔹 Task 3: Handle Click Events\n",
    "Now we handle the click and move the target to random positions."
   ]
  },
  {
   "cell_type": "code",
   "execution_count": null,
   "id": "da5f91dc",
   "metadata": {},
   "outputs": [],
   "source": [
    "canvas.addEventListener(\"click\", function(e) {\n",
    "  const rect = canvas.getBoundingClientRect();\n",
    "  const x = e.clientX - rect.left;\n",
    "  const y = e.clientY - rect.top;\n",
    "  // Distance to center of circle\n",
    "  let dx = x - 150;\n",
    "  let dy = y - 100;\n",
    "  if (Math.sqrt(dx * dx + dy * dy) < 20) {\n",
    "    alert(\"Hit!\");\n",
    "  }\n",
    "});"
   ]
  },
  {
   "cell_type": "markdown",
   "id": "197c1fd4",
   "metadata": {},
   "source": [
    "This detects if the user clicked inside the red circle."
   ]
  },
  {
   "cell_type": "markdown",
   "id": "95690225",
   "metadata": {},
   "source": [
    "## 🔹 Task 4: Combine All Levels\n",
    "We now replicate this logic across 3 levels with increasing difficulty and scores required to progress."
   ]
  },
  {
   "cell_type": "markdown",
   "id": "1c6f06da",
   "metadata": {},
   "source": [
    "👉 See the full version in the accompanying HTML file."
   ]
  }
 ],
 "metadata": {},
 "nbformat": 4,
 "nbformat_minor": 5
}

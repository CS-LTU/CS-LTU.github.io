{
 "cells": [
  {
   "cell_type": "markdown",
   "id": "5e292bd0",
   "metadata": {},
   "source": [
    "# 🦖 Dino Runner Clone – Step-by-Step Game\n",
    "This notebook guides you through building a basic Dino Runner game using HTML and JavaScript.\n",
    "Each step includes a task, code block, and explanation."
   ]
  },
  {
   "cell_type": "markdown",
   "id": "61792c33",
   "metadata": {},
   "source": [
    "## ✅ Task 1: Set up the game canvas\n",
    "Create a canvas element to draw your game."
   ]
  },
  {
   "cell_type": "code",
   "execution_count": null,
   "id": "5dca627f",
   "metadata": {},
   "outputs": [],
   "source": [
    "# HTML canvas setup\n",
    "%%writefile /mnt/data/final_html_games/game/dino_runner_task1.html\n",
    "<!DOCTYPE html>\n",
    "<html>\n",
    "<head>\n",
    "  <title>Dino Game - Task 1</title>\n",
    "</head>\n",
    "<body>\n",
    "  <canvas id=\"gameCanvas\" width=\"800\" height=\"200\" style=\"background:#f4f4f4;\"></canvas>\n",
    "</body>\n",
    "</html>"
   ]
  },
  {
   "cell_type": "markdown",
   "id": "e2aa9e07",
   "metadata": {},
   "source": [
    "### 💡 Explanation:\n",
    "This sets up an HTML page with a canvas where your game will be drawn."
   ]
  },
  {
   "cell_type": "markdown",
   "id": "ec6184c5",
   "metadata": {},
   "source": [
    "## ✅ Task 2: Draw the dino as a rectangle\n",
    "Add JavaScript to draw a rectangle representing the dino."
   ]
  },
  {
   "cell_type": "code",
   "execution_count": null,
   "id": "cb8c57af",
   "metadata": {},
   "outputs": [],
   "source": [
    "# Add JavaScript to draw dino\n",
    "%%writefile /mnt/data/final_html_games/game/dino_runner_task2.html\n",
    "<!DOCTYPE html>\n",
    "<html>\n",
    "<head>\n",
    "  <title>Dino Game - Task 2</title>\n",
    "</head>\n",
    "<body>\n",
    "  <canvas id=\"gameCanvas\" width=\"800\" height=\"200\" style=\"background:#f4f4f4;\"></canvas>\n",
    "  <script>\n",
    "    const canvas = document.getElementById('gameCanvas');\n",
    "    const ctx = canvas.getContext('2d');\n",
    "\n",
    "    let dino = { x: 50, y: 150, width: 40, height: 40 };\n",
    "\n",
    "    function draw() {\n",
    "      ctx.clearRect(0, 0, canvas.width, canvas.height);\n",
    "      ctx.fillStyle = 'green';\n",
    "      ctx.fillRect(dino.x, dino.y, dino.width, dino.height);\n",
    "    }\n",
    "\n",
    "    setInterval(draw, 1000 / 60);\n",
    "  </script>\n",
    "</body>\n",
    "</html>"
   ]
  },
  {
   "cell_type": "markdown",
   "id": "dbbaf44a",
   "metadata": {},
   "source": [
    "### 💡 Explanation:\n",
    "We use JavaScript to draw a green square representing the dino using canvas API."
   ]
  },
  {
   "cell_type": "markdown",
   "id": "033623ee",
   "metadata": {},
   "source": [
    "## ✅ Task 3: Add jumping logic\n",
    "Make the dino jump when the space bar is pressed."
   ]
  },
  {
   "cell_type": "code",
   "execution_count": null,
   "id": "15377545",
   "metadata": {},
   "outputs": [],
   "source": [
    "# Add jumping logic\n",
    "%%writefile /mnt/data/final_html_games/game/dino_runner_task3.html\n",
    "<!DOCTYPE html>\n",
    "<html>\n",
    "<head>\n",
    "  <title>Dino Game - Task 3</title>\n",
    "</head>\n",
    "<body>\n",
    "  <canvas id=\"gameCanvas\" width=\"800\" height=\"200\" style=\"background:#f4f4f4;\"></canvas>\n",
    "  <script>\n",
    "    const canvas = document.getElementById('gameCanvas');\n",
    "    const ctx = canvas.getContext('2d');\n",
    "\n",
    "    let dino = { x: 50, y: 150, width: 40, height: 40, vy: 0, jumping: false };\n",
    "    const gravity = 1.5;\n",
    "\n",
    "    function draw() {\n",
    "      ctx.clearRect(0, 0, canvas.width, canvas.height);\n",
    "      ctx.fillStyle = 'green';\n",
    "      ctx.fillRect(dino.x, dino.y, dino.width, dino.height);\n",
    "    }\n",
    "\n",
    "    function update() {\n",
    "      if (dino.jumping) {\n",
    "        dino.vy += gravity;\n",
    "        dino.y += dino.vy;\n",
    "        if (dino.y >= 150) {\n",
    "          dino.y = 150;\n",
    "          dino.jumping = false;\n",
    "          dino.vy = 0;\n",
    "        }\n",
    "      }\n",
    "    }\n",
    "\n",
    "    document.addEventListener('keydown', function(e) {\n",
    "      if (e.code === 'Space' && !dino.jumping) {\n",
    "        dino.jumping = true;\n",
    "        dino.vy = -20;\n",
    "      }\n",
    "    });\n",
    "\n",
    "    function gameLoop() {\n",
    "      update();\n",
    "      draw();\n",
    "      requestAnimationFrame(gameLoop);\n",
    "    }\n",
    "\n",
    "    gameLoop();\n",
    "  </script>\n",
    "</body>\n",
    "</html>"
   ]
  },
  {
   "cell_type": "markdown",
   "id": "dc6e4c88",
   "metadata": {},
   "source": [
    "### 💡 Explanation:\n",
    "This adds jumping using basic gravity physics. Space bar triggers a jump by applying a negative velocity."
   ]
  }
 ],
 "metadata": {},
 "nbformat": 4,
 "nbformat_minor": 5
}

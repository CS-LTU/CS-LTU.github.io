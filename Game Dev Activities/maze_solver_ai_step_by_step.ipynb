{
 "cells": [
  {
   "cell_type": "markdown",
   "id": "4f11af20",
   "metadata": {},
   "source": [
    "# 🧠 Maze Solver AI – Step-by-Step Game\n",
    "This notebook guides you through building a simple Maze Solver using JavaScript in HTML.\n",
    "Each section includes a task, code block, and explanation."
   ]
  },
  {
   "cell_type": "markdown",
   "id": "32f7733a",
   "metadata": {},
   "source": [
    "## ✅ Task 1: Create the Maze Grid\n",
    "Start by drawing a grid that represents the maze."
   ]
  },
  {
   "cell_type": "code",
   "execution_count": null,
   "id": "0d8975c6",
   "metadata": {},
   "outputs": [],
   "source": [
    "# HTML + CSS to create a simple grid\n",
    "%%writefile /mnt/data/final_html_games/game/maze_solver_task1.html\n",
    "<!DOCTYPE html>\n",
    "<html>\n",
    "<head>\n",
    "  <title>Maze Solver - Task 1</title>\n",
    "  <style>\n",
    "    canvas { background: #eee; display: block; margin: auto; }\n",
    "  </style>\n",
    "</head>\n",
    "<body>\n",
    "  <canvas id=\"mazeCanvas\" width=\"400\" height=\"400\"></canvas>\n",
    "</body>\n",
    "</html>"
   ]
  },
  {
   "cell_type": "markdown",
   "id": "c2fe5916",
   "metadata": {},
   "source": [
    "### 💡 Explanation:\n",
    "This HTML sets up a 400x400 canvas element to draw the maze."
   ]
  },
  {
   "cell_type": "markdown",
   "id": "81d43208",
   "metadata": {},
   "source": [
    "## ✅ Task 2: Define the Maze Layout\n",
    "Represent the maze as a 2D array of walls (1) and paths (0)."
   ]
  },
  {
   "cell_type": "code",
   "execution_count": null,
   "id": "fdd5fe32",
   "metadata": {},
   "outputs": [],
   "source": [
    "# Add maze drawing logic\n",
    "%%writefile /mnt/data/final_html_games/game/maze_solver_task2.html\n",
    "<!DOCTYPE html>\n",
    "<html>\n",
    "<head>\n",
    "  <title>Maze Solver - Task 2</title>\n",
    "  <style>\n",
    "    canvas { background: #eee; display: block; margin: auto; }\n",
    "  </style>\n",
    "</head>\n",
    "<body>\n",
    "  <canvas id=\"mazeCanvas\" width=\"400\" height=\"400\"></canvas>\n",
    "  <script>\n",
    "    const canvas = document.getElementById(\"mazeCanvas\");\n",
    "    const ctx = canvas.getContext(\"2d\");\n",
    "\n",
    "    const maze = [\n",
    "      [0, 1, 0, 0, 0],\n",
    "      [0, 1, 0, 1, 0],\n",
    "      [0, 0, 0, 1, 0],\n",
    "      [1, 1, 0, 1, 0],\n",
    "      [0, 0, 0, 0, 0],\n",
    "    ];\n",
    "\n",
    "    const tileSize = 80;\n",
    "\n",
    "    function drawMaze() {\n",
    "      for (let row = 0; row < maze.length; row++) {\n",
    "        for (let col = 0; col < maze[row].length; col++) {\n",
    "          ctx.fillStyle = maze[row][col] === 1 ? \"black\" : \"white\";\n",
    "          ctx.fillRect(col * tileSize, row * tileSize, tileSize, tileSize);\n",
    "        }\n",
    "      }\n",
    "    }\n",
    "\n",
    "    drawMaze();\n",
    "  </script>\n",
    "</body>\n",
    "</html>"
   ]
  },
  {
   "cell_type": "markdown",
   "id": "2061c4f5",
   "metadata": {},
   "source": [
    "### 💡 Explanation:\n",
    "This script draws a 5x5 maze using a 2D array where `1` means wall and `0` means path."
   ]
  }
 ],
 "metadata": {},
 "nbformat": 4,
 "nbformat_minor": 5
}

{
 "cells": [
  {
   "cell_type": "markdown",
   "id": "a4d293f2",
   "metadata": {},
   "source": [
    "# 🔏 Encryption/Decryption Tool\n",
    "Use symmetric encryption with Fernet for secure message handling."
   ]
  },
  {
   "cell_type": "markdown",
   "id": "7c0e85de",
   "metadata": {},
   "source": [
    "## ✅ Skills Covered\n",
    "- Encryption basics\n",
    "- Secure message transfer"
   ]
  },
  {
   "cell_type": "code",
   "execution_count": 3,
   "id": "0d478b58",
   "metadata": {},
   "outputs": [
    {
     "name": "stdout",
     "output_type": "stream",
     "text": [
      "Collecting cryptography"
     ]
    },
    {
     "name": "stderr",
     "output_type": "stream",
     "text": [
      "\n",
      "[notice] A new release of pip is available: 23.2 -> 25.1.1\n",
      "[notice] To update, run: python.exe -m pip install --upgrade pip\n"
     ]
    },
    {
     "name": "stdout",
     "output_type": "stream",
     "text": [
      "\n",
      "  Obtaining dependency information for cryptography from https://files.pythonhosted.org/packages/c7/75/063bc9ddc3d1c73e959054f1fc091b79572e716ef74d6caaa56e945b4af9/cryptography-45.0.3-cp311-abi3-win_amd64.whl.metadata\n",
      "  Downloading cryptography-45.0.3-cp311-abi3-win_amd64.whl.metadata (5.7 kB)\n",
      "Requirement already satisfied: cffi>=1.14 in c:\\program files\\python311\\lib\\site-packages (from cryptography) (1.17.1)\n",
      "Requirement already satisfied: pycparser in c:\\users\\y.baradaranshokouhi\\appdata\\roaming\\python\\python311\\site-packages (from cffi>=1.14->cryptography) (2.22)\n",
      "Downloading cryptography-45.0.3-cp311-abi3-win_amd64.whl (3.4 MB)\n",
      "   ---------------------------------------- 3.4/3.4 MB 13.6 MB/s eta 0:00:00\n",
      "Installing collected packages: cryptography\n",
      "Successfully installed cryptography-45.0.3\n"
     ]
    }
   ],
   "source": [
    "!pip install cryptography"
   ]
  },
  {
   "cell_type": "code",
   "execution_count": 4,
   "id": "ecf5766e",
   "metadata": {},
   "outputs": [
    {
     "name": "stdout",
     "output_type": "stream",
     "text": [
      "🔑 Key generated.\n",
      "🔐 Encrypted: b'gAAAAABoRWOWH9fSH0LzM1vqPeK0ZUXcQLHzIdZYhS2vro_TmIwGlplGPEcl0QRuY413s6NYEMBNC_ABhLdxTS1qUqhodNuZrw=='\n",
      "🔓 Decrypted: yash\n"
     ]
    }
   ],
   "source": [
    "from cryptography.fernet import Fernet\n",
    "\n",
    "key = Fernet.generate_key()\n",
    "cipher = Fernet(key)\n",
    "print(\"🔑 Key generated.\")\n",
    "\n",
    "msg = input(\"Enter your message: \").encode()\n",
    "enc = cipher.encrypt(msg)\n",
    "print(\"🔐 Encrypted:\", enc)\n",
    "print(\"🔓 Decrypted:\", cipher.decrypt(enc).decode())"
   ]
  }
 ],
 "metadata": {
  "kernelspec": {
   "display_name": "Python 3",
   "language": "python",
   "name": "python3"
  },
  "language_info": {
   "codemirror_mode": {
    "name": "ipython",
    "version": 3
   },
   "file_extension": ".py",
   "mimetype": "text/x-python",
   "name": "python",
   "nbconvert_exporter": "python",
   "pygments_lexer": "ipython3",
   "version": "3.11.1"
  }
 },
 "nbformat": 4,
 "nbformat_minor": 5
}

{
 "cells": [
  {
   "cell_type": "markdown",
   "id": "19f9429e",
   "metadata": {},
   "source": [
    "# 🔐 Two-Factor Authentication Simulator\n",
    "Simulate a basic 2FA process using random codes sent via 'email'."
   ]
  },
  {
   "cell_type": "markdown",
   "id": "d4b7e682",
   "metadata": {},
   "source": [
    "## ✅ Skills Covered\n",
    "- Understanding of 2FA\n",
    "- Random code generation\n",
    "- Timed validation"
   ]
  },
  {
   "cell_type": "code",
   "execution_count": 1,
   "id": "a38e6764",
   "metadata": {},
   "outputs": [
    {
     "name": "stdout",
     "output_type": "stream",
     "text": [
      "📩 Verification code sent to your email:  499200\n",
      "⏱️ Code expired!\n"
     ]
    }
   ],
   "source": [
    "import random\n",
    "import time\n",
    "\n",
    "code = random.randint(100000, 999999)\n",
    "print(\"📩 Verification code sent to your email: \", code)\n",
    "start = time.time()\n",
    "user_input = int(input(\"Enter the 6-digit code: \"))\n",
    "end = time.time()\n",
    "\n",
    "if end - start > 30:\n",
    "    print(\"⏱️ Code expired!\")\n",
    "elif user_input == code:\n",
    "    print(\"✅ Verified successfully!\")\n",
    "else:\n",
    "    print(\"❌ Invalid code.\")"
   ]
  }
 ],
 "metadata": {
  "kernelspec": {
   "display_name": "Python 3",
   "language": "python",
   "name": "python3"
  },
  "language_info": {
   "codemirror_mode": {
    "name": "ipython",
    "version": 3
   },
   "file_extension": ".py",
   "mimetype": "text/x-python",
   "name": "python",
   "nbconvert_exporter": "python",
   "pygments_lexer": "ipython3",
   "version": "3.11.1"
  }
 },
 "nbformat": 4,
 "nbformat_minor": 5
}

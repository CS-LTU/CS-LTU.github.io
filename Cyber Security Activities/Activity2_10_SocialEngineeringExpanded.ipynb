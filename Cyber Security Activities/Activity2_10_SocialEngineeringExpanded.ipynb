{
 "cells": [
  {
   "cell_type": "markdown",
   "id": "b714b25d",
   "metadata": {},
   "source": [
    "# 🎭 Social Engineering Awareness Quiz\n",
    "**Learn to identify and defend against manipulation techniques hackers use to trick you.**\n",
    "\n",
    "Social engineering is a form of attack that relies on human psychology rather than technical hacking techniques. This notebook includes multiple examples and scenarios to help you learn how to spot them."
   ]
  },
  {
   "cell_type": "markdown",
   "id": "bb2ae8b8",
   "metadata": {},
   "source": [
    "## ✅ Instructions\n",
    "- Read each scenario carefully.\n",
    "- Choose the best answer or type your response.\n",
    "- Discuss your thoughts with your peers.\n",
    "- Check the answer feedback below each question."
   ]
  },
  {
   "cell_type": "markdown",
   "id": "5cd0c98a",
   "metadata": {},
   "source": [
    "## 🔐 Question 1: Phishing Email\n",
    "You receive an email from your bank asking you to verify your account by clicking a link. The message contains your full name, a realistic logo, and a link that says `secure-login-bank.com`. What should you do?\n",
    "\n",
    "**A)** Click the link and log in to secure your account   \n",
    "**B)** Ignore it, delete the email, and carry on  \n",
    "**C)** Call the bank using their official number and report the email   \n"
   ]
  },
  {
   "cell_type": "code",
   "execution_count": null,
   "id": "2c69159d",
   "metadata": {},
   "outputs": [],
   "source": [
    "# Type your answer here:\n",
    "answer1 = 'C'\n",
    "print(f'Your answer: {answer1}')\n",
    "if answer1.upper() == 'C':\n",
    "    print('✅ Correct! Always verify using official channels.')\n",
    "else:\n",
    "    print('❌ Be cautious! Never click unknown links.')"
   ]
  },
  {
   "cell_type": "markdown",
   "id": "66bed96e",
   "metadata": {},
   "source": [
    "## 👨‍💼 Question 2: Tailgating\n",
    "A person in a delivery uniform follows you into a secure office door without using a badge. They say, \"Oh, I forgot my access card, can you let me in real quick?\"\n",
    "\n",
    "What is the best course of action?\n",
    "\n",
    "**A)** Let them in, they look trustworthy  \n",
    "**B)** Ask them to wait and call security  \n",
    "**C)** Hold the door but don’t ask questions  "
   ]
  },
  {
   "cell_type": "code",
   "execution_count": null,
   "id": "091c3d42",
   "metadata": {},
   "outputs": [],
   "source": [
    "answer2 = 'B'\n",
    "print(f'Your answer: {answer2}')\n",
    "if answer2.upper() == 'B':\n",
    "    print('✅ Correct! Always verify access before allowing entry.')\n",
    "else:\n",
    "    print('❌ This is a common tactic called tailgating.')"
   ]
  },
  {
   "cell_type": "markdown",
   "id": "f364ea4a",
   "metadata": {},
   "source": [
    "## 📱 Question 3: Pretexting\n",
    "Someone calls claiming to be from your IT department and asks for your username and temporary password to 'upgrade your account.' You didn’t expect this call.\n",
    "\n",
    "What should you do?\n",
    "\n",
    "**A)** Give them the details to avoid delays  \n",
    "**B)** Politely refuse and verify with IT independently  \n",
    "**C)** Hang up and block the number  "
   ]
  },
  {
   "cell_type": "code",
   "execution_count": null,
   "id": "ff64fbb0",
   "metadata": {},
   "outputs": [],
   "source": [
    "answer3 = 'B'\n",
    "print(f'Your answer: {answer3}')\n",
    "if answer3.upper() == 'B':\n",
    "    print('✅ Correct! Always verify with trusted channels.')\n",
    "else:\n",
    "    print('❌ Pretexting is dangerous — don’t fall for it.')"
   ]
  },
  {
   "cell_type": "markdown",
   "id": "38461655",
   "metadata": {},
   "source": [
    "## 💬 Question 4: Quid Pro Quo\n",
    "An online pop-up says you’ve won a £100 Amazon gift card. All you need to do is enter your name, email, and download a security tool. What is this an example of?\n",
    "\n",
    "**A)** Phishing  \n",
    "**B)** Quid Pro Quo  \n",
    "**C)** Safe Promotion  "
   ]
  },
  {
   "cell_type": "code",
   "execution_count": null,
   "id": "f215d69c",
   "metadata": {},
   "outputs": [],
   "source": [
    "answer4 = 'B'\n",
    "print(f'Your answer: {answer4}')\n",
    "if answer4.upper() == 'B':\n",
    "    print('✅ Correct! Quid pro quo offers something in return for your data.')\n",
    "else:\n",
    "    print('❌ This is a manipulation technique.')"
   ]
  },
  {
   "cell_type": "markdown",
   "id": "08b8e48a",
   "metadata": {},
   "source": [
    "## 🕵️ Question 5: Shoulder Surfing\n",
    "You're typing your password at a coffee shop, and someone nearby seems to be glancing at your screen. What can you do?\n",
    "\n",
    "**A)** Continue as normal  \n",
    "**B)** Use your hand or body to block the view  \n",
    "**C)** Log out and find a more private location  "
   ]
  },
  {
   "cell_type": "code",
   "execution_count": null,
   "id": "5ed723a4",
   "metadata": {},
   "outputs": [],
   "source": [
    "answer5 = 'B'\n",
    "print(f'Your answer: {answer5}')\n",
    "if answer5.upper() == 'B':\n",
    "    print('✅ Correct! Always guard your screen in public.')\n",
    "else:\n",
    "    print('❌ Shoulder surfing can lead to serious breaches.')"
   ]
  },
  {
   "cell_type": "markdown",
   "id": "2f2c80e9",
   "metadata": {},
   "source": [
    "## 🧠 Reflection:\n",
    "Can you think of a time when you or someone you know encountered one of these techniques? What could have been done differently?"
   ]
  }
 ],
 "metadata": {
  "language_info": {
   "name": "python"
  }
 },
 "nbformat": 4,
 "nbformat_minor": 5
}

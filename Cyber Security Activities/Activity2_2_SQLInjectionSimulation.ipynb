{
 "cells": [
  {
   "cell_type": "markdown",
   "id": "c9057e11",
   "metadata": {},
   "source": [
    "# 🛡️ SQL Injection Simulation\n",
    "This notebook demonstrates a simple example of an SQL Injection vulnerability and how attackers can exploit input fields to bypass login authentication."
   ]
  },
  {
   "cell_type": "markdown",
   "id": "cecdfe02",
   "metadata": {},
   "source": [
    "## ✅ What You'll Learn\n",
    "- How SQL Injection works\n",
    "- Why it's dangerous\n",
    "- The importance of secure coding practices"
   ]
  },
  {
   "cell_type": "code",
   "execution_count": 1,
   "id": "e07a9b64",
   "metadata": {},
   "outputs": [],
   "source": [
    "# Simulate a basic login function with vulnerable SQL construction\n",
    "def vulnerable_login(username, password):\n",
    "    # This is how the SQL query would be constructed (insecurely)\n",
    "    query = f\"SELECT * FROM users WHERE username = '{username}' AND password = '{password}'\"\n",
    "    print(\"\\n📜 Simulated SQL Query:\")\n",
    "    print(query)\n",
    "\n",
    "    # Simulate evaluation\n",
    "    if username == 'admin' and password == 'admin123':\n",
    "        return \"✅ Access Granted: Welcome admin!\"\n",
    "    elif \"' OR '1'='1\" in password or '\" OR \"1\"=\"1' in password:\n",
    "        return \"🔓 Access Granted! (This is a vulnerability!)\"\n",
    "    else:\n",
    "        return \"❌ Access Denied\"\n"
   ]
  },
  {
   "cell_type": "code",
   "execution_count": 2,
   "id": "29b6a91c",
   "metadata": {},
   "outputs": [
    {
     "name": "stdout",
     "output_type": "stream",
     "text": [
      "\n",
      "📜 Simulated SQL Query:\n",
      "SELECT * FROM users WHERE username = 'admin' AND password = '' OR '1'='1'\n",
      "\n",
      "Result:\n",
      "🔓 Access Granted! (This is a vulnerability!)\n"
     ]
    }
   ],
   "source": [
    "# Try different inputs:\n",
    "username = input(\"Enter username: \")\n",
    "password = input(\"Enter password: \")\n",
    "\n",
    "result = vulnerable_login(username, password)\n",
    "print(\"\\nResult:\")\n",
    "print(result)"
   ]
  },
  {
   "cell_type": "markdown",
   "id": "8c3a5bd3",
   "metadata": {},
   "source": [
    "🔐 How to Prevent It in Real Life?\n",
    "Use parameterized queries or ORMs that separate code from data. Like this in Python:"
   ]
  },
  {
   "cell_type": "code",
   "execution_count": null,
   "id": "8ba15c06",
   "metadata": {},
   "outputs": [],
   "source": [
    "cursor.execute(\"SELECT * FROM users WHERE username = ? AND password = ?\", (username, password))"
   ]
  },
  {
   "cell_type": "markdown",
   "id": "d2e4291f",
   "metadata": {},
   "source": [
    "This way, ' OR '1'='1 stays a string value, not part of the SQL code."
   ]
  }
 ],
 "metadata": {
  "kernelspec": {
   "display_name": "Python 3",
   "language": "python",
   "name": "python3"
  },
  "language_info": {
   "codemirror_mode": {
    "name": "ipython",
    "version": 3
   },
   "file_extension": ".py",
   "mimetype": "text/x-python",
   "name": "python",
   "nbconvert_exporter": "python",
   "pygments_lexer": "ipython3",
   "version": "3.11.1"
  }
 },
 "nbformat": 4,
 "nbformat_minor": 5
}

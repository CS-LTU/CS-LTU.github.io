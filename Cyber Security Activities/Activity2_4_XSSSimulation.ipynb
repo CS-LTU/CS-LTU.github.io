{
 "cells": [
  {
   "cell_type": "markdown",
   "id": "ba24c1b4",
   "metadata": {},
   "source": [
    "# ⚠️ Cross-Site Scripting (XSS) Simulation\n",
    "This activity demonstrates how malicious scripts can be injected through user input and how they can be rendered in a browser-like environment."
   ]
  },
  {
   "cell_type": "markdown",
   "id": "3d4d5ffb",
   "metadata": {},
   "source": [
    "## ✅ Skills Covered\n",
    "- Understanding cross-site scripting (XSS)\n",
    "- Risks of using `innerHTML` in web development\n",
    "- Importance of input sanitization"
   ]
  },
  {
   "cell_type": "code",
   "execution_count": 3,
   "id": "c457e07b",
   "metadata": {},
   "outputs": [
    {
     "data": {
      "text/html": [
       "\n",
       "<div>\n",
       "    <h3>Hello, <script>alert('Hacked!')</script></h3>\n",
       "</div>\n"
      ],
      "text/plain": [
       "<IPython.core.display.HTML object>"
      ]
     },
     "metadata": {},
     "output_type": "display_data"
    }
   ],
   "source": [
    "# This simulation is not executable in Jupyter, but shows how an XSS vulnerability can work\n",
    "from IPython.display import display, HTML\n",
    "\n",
    "user_input = input(\"Enter your name (potentially malicious): \")\n",
    "\n",
    "# Simulate a risky use of innerHTML\n",
    "html_content = f\"\"\"\n",
    "<div>\n",
    "    <h3>Hello, {user_input}</h3>\n",
    "</div>\n",
    "\"\"\"\n",
    "\n",
    "display(HTML(html_content))"
   ]
  },
  {
   "cell_type": "markdown",
   "id": "b46d0268",
   "metadata": {},
   "source": [
    "## 🧪 Instructions\n",
    "1. Open the file in a browser.\n",
    "2. Try entering a normal message.\n",
    "3. Then try:\n",
    "    ``` <script>alert('Hacked!')</script> ```\n",
    "4. Press Post Comment (Unsafe) to see what happens (vulnerable).\n",
    "5. Press Post Comment (Safe) to see how safe rendering protects the page."
   ]
  },
  {
   "cell_type": "markdown",
   "id": "4b3e49ba",
   "metadata": {},
   "source": []
  }
 ],
 "metadata": {
  "kernelspec": {
   "display_name": "Python 3",
   "language": "python",
   "name": "python3"
  },
  "language_info": {
   "codemirror_mode": {
    "name": "ipython",
    "version": 3
   },
   "file_extension": ".py",
   "mimetype": "text/x-python",
   "name": "python",
   "nbconvert_exporter": "python",
   "pygments_lexer": "ipython3",
   "version": "3.11.1"
  }
 },
 "nbformat": 4,
 "nbformat_minor": 5
}

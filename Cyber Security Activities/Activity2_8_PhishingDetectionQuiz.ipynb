{
 "cells": [
  {
   "cell_type": "markdown",
   "id": "e8ca9955",
   "metadata": {},
   "source": [
    "# 🎣 Phishing Detection Quiz\n",
    "A quick quiz to test awareness about phishing messages."
   ]
  },
  {
   "cell_type": "markdown",
   "id": "f408ce0b",
   "metadata": {},
   "source": [
    "## ✅ Skills Covered\n",
    "- Recognizing phishing traits\n",
    "- Awareness of social engineering"
   ]
  },
  {
   "cell_type": "code",
   "execution_count": 1,
   "id": "0622009a",
   "metadata": {},
   "outputs": [
    {
     "name": "stdout",
     "output_type": "stream",
     "text": [
      "Is this email suspicious?\n",
      "\n",
      "Subject: Urgent - Your Account is Locked! Click here to verify immediately.\n",
      "✅ Correct. This is a common phishing attempt.\n"
     ]
    }
   ],
   "source": [
    "print(\"Is this email suspicious?\\n\")\n",
    "print(\"Subject: Urgent - Your Account is Locked! Click here to verify immediately.\")\n",
    "answer = input(\"Phishing (Y/N)? \").strip().upper()\n",
    "if answer == 'Y':\n",
    "    print(\"✅ Correct. This is a common phishing attempt.\")\n",
    "else:\n",
    "    print(\"❌ Not quite. The urgency and link are suspicious.\")"
   ]
  }
 ],
 "metadata": {
  "kernelspec": {
   "display_name": "Python 3",
   "language": "python",
   "name": "python3"
  },
  "language_info": {
   "codemirror_mode": {
    "name": "ipython",
    "version": 3
   },
   "file_extension": ".py",
   "mimetype": "text/x-python",
   "name": "python",
   "nbconvert_exporter": "python",
   "pygments_lexer": "ipython3",
   "version": "3.11.1"
  }
 },
 "nbformat": 4,
 "nbformat_minor": 5
}

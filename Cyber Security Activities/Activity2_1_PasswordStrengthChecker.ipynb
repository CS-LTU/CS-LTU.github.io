{
 "cells": [
  {
   "cell_type": "markdown",
   "id": "29e32ac4",
   "metadata": {},
   "source": [
    "# 🔐 Password Strength Checker\n",
    "A simple tool to evaluate how secure a given password is."
   ]
  },
  {
   "cell_type": "markdown",
   "id": "3c228a2f",
   "metadata": {},
   "source": [
    "## ✅ Skills Covered\n",
    "- Input validation\n",
    "- String handling\n",
    "- Basic security practices\n",
    "- Awareness of password strength criteria"
   ]
  },
  {
   "cell_type": "code",
   "execution_count": null,
   "id": "f879a0ae",
   "metadata": {},
   "outputs": [],
   "source": [
    "import re\n",
    "\n",
    "def check_password_strength(password):\n",
    "    strength = 0\n",
    "    remarks = []\n",
    "\n",
    "    if len(password) >= 8:\n",
    "        strength += 1\n",
    "        remarks.append(\"✅ Good length\")\n",
    "    else:\n",
    "        remarks.append(\"❌ Password is too short\")\n",
    "\n",
    "    if re.search(r\"[A-Z]\", password):\n",
    "        strength += 1\n",
    "        remarks.append(\"✅ Contains uppercase letter\")\n",
    "    else:\n",
    "        remarks.append(\"❌ No uppercase letter\")\n",
    "\n",
    "    if re.search(r\"[a-z]\", password):\n",
    "        strength += 1\n",
    "        remarks.append(\"✅ Contains lowercase letter\")\n",
    "    else:\n",
    "        remarks.append(\"❌ No lowercase letter\")\n",
    "\n",
    "    if re.search(r\"[0-9]\", password):\n",
    "        strength += 1\n",
    "        remarks.append(\"✅ Contains number\")\n",
    "    else:\n",
    "        remarks.append(\"❌ No number\")\n",
    "\n",
    "    if re.search(r\"[!@#$%^&*(),.?\\\":{}|<>]\", password):\n",
    "        strength += 1\n",
    "        remarks.append(\"✅ Contains special character\")\n",
    "    else:\n",
    "        remarks.append(\"❌ No special character\")\n",
    "\n",
    "    print(\"\\n\".join(remarks))\n",
    "    print(f\"\\n🔐 Strength Score: {strength}/5\")\n",
    "    if strength >= 4:\n",
    "        print(\"✅ Strong password!\")\n",
    "    elif strength == 3:\n",
    "        print(\"⚠️ Moderate password.\")\n",
    "    else:\n",
    "        print(\"❌ Weak password!\")"
   ]
  },
  {
   "cell_type": "code",
   "execution_count": null,
   "id": "3e6da510",
   "metadata": {},
   "outputs": [],
   "source": [
    "# Try it below:\n",
    "user_input = input(\"Enter a password to check: \")\n",
    "check_password_strength(user_input)"
   ]
  }
 ],
 "metadata": {
  "language_info": {
   "name": "python"
  }
 },
 "nbformat": 4,
 "nbformat_minor": 5
}

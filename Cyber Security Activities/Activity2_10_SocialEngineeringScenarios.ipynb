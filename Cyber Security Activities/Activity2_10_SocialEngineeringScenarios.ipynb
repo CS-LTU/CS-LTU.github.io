{
 "cells": [
  {
   "cell_type": "markdown",
   "id": "ef27e3b1",
   "metadata": {},
   "source": [
    "# 🧠 Social Engineering Scenarios\n",
    "Understand manipulation tactics used in cyber attacks."
   ]
  },
  {
   "cell_type": "markdown",
   "id": "05beba4c",
   "metadata": {},
   "source": [
    "## ✅ Skills Covered\n",
    "- Psychological tactics\n",
    "- Security through skepticism"
   ]
  },
  {
   "cell_type": "code",
   "execution_count": 1,
   "id": "43ad02aa",
   "metadata": {},
   "outputs": [
    {
     "name": "stdout",
     "output_type": "stream",
     "text": [
      "A person claiming to be IT support asks for your login credentials to update your email system.\n",
      "✅ Well done. Always verify identity.\n"
     ]
    }
   ],
   "source": [
    "print(\"A person claiming to be IT support asks for your login credentials to update your email system.\")\n",
    "response = input(\"Do you comply? (Y/N): \").strip().upper()\n",
    "if response == 'N':\n",
    "    print(\"✅ Well done. Always verify identity.\")\n",
    "else:\n",
    "    print(\"❌ This is a common social engineering trick.\")"
   ]
  }
 ],
 "metadata": {
  "kernelspec": {
   "display_name": "Python 3",
   "language": "python",
   "name": "python3"
  },
  "language_info": {
   "codemirror_mode": {
    "name": "ipython",
    "version": 3
   },
   "file_extension": ".py",
   "mimetype": "text/x-python",
   "name": "python",
   "nbconvert_exporter": "python",
   "pygments_lexer": "ipython3",
   "version": "3.11.1"
  }
 },
 "nbformat": 4,
 "nbformat_minor": 5
}

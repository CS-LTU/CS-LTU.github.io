{
 "cells": [
  {
   "cell_type": "markdown",
   "id": "a06e6f93",
   "metadata": {},
   "source": [
    "# 🔓 Hash Cracker Demo\n",
    "This activity introduces the concept of hashing and demonstrates a simple brute-force method to find the original value of a given hash (only for educational purposes)."
   ]
  },
  {
   "cell_type": "markdown",
   "id": "aedd9803",
   "metadata": {},
   "source": [
    "## ✅ Skills Covered\n",
    "- Understanding hashing (e.g., MD5, SHA-256)\n",
    "- Brute-force demonstration\n",
    "- Importance of strong passwords"
   ]
  },
  {
   "cell_type": "code",
   "execution_count": 1,
   "id": "a3e89c2e",
   "metadata": {},
   "outputs": [
    {
     "name": "stdout",
     "output_type": "stream",
     "text": [
      "Target hash: 5d41402abc4b2a76b9719d911017c592\n",
      "Trying: 1234 -> 81dc9bdb52d04dc20036dbd8313ed055\n",
      "Trying: password -> 5f4dcc3b5aa765d61d8327deb882cf99\n",
      "Trying: hello -> 5d41402abc4b2a76b9719d911017c592\n",
      "✅ Match found! Original word: hello\n"
     ]
    }
   ],
   "source": [
    "# ⚠️ Educational hash cracking demo\n",
    "import hashlib\n",
    "\n",
    "# Precomputed hashes of short common words\n",
    "hash_to_crack = hashlib.md5(\"hello\".encode()).hexdigest()\n",
    "\n",
    "wordlist = [\"1234\", \"password\", \"hello\", \"letmein\", \"admin\"]\n",
    "print(\"Target hash:\", hash_to_crack)\n",
    "\n",
    "found = False\n",
    "for word in wordlist:\n",
    "    hashed_word = hashlib.md5(word.encode()).hexdigest()\n",
    "    print(f\"Trying: {word} -> {hashed_word}\")\n",
    "    if hashed_word == hash_to_crack:\n",
    "        print(f\"✅ Match found! Original word: {word}\")\n",
    "        found = True\n",
    "        break\n",
    "\n",
    "if not found:\n",
    "    print(\"❌ No match found in wordlist.\")"
   ]
  }
 ],
 "metadata": {
  "kernelspec": {
   "display_name": "Python 3",
   "language": "python",
   "name": "python3"
  },
  "language_info": {
   "codemirror_mode": {
    "name": "ipython",
    "version": 3
   },
   "file_extension": ".py",
   "mimetype": "text/x-python",
   "name": "python",
   "nbconvert_exporter": "python",
   "pygments_lexer": "ipython3",
   "version": "3.11.1"
  }
 },
 "nbformat": 4,
 "nbformat_minor": 5
}

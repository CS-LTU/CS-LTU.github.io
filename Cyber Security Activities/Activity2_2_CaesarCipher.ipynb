{
 "cells": [
  {
   "cell_type": "markdown",
   "id": "1ecb6d8b",
   "metadata": {},
   "source": [
    "# 🔐 Caesar Cipher Encoder/Decoder\n",
    "This activity allows students to encrypt and decrypt messages using the Caesar cipher, one of the simplest and most widely known encryption techniques."
   ]
  },
  {
   "cell_type": "markdown",
   "id": "2903c59d",
   "metadata": {},
   "source": [
    "## ✅ Skills Covered\n",
    "- Basic encryption logic\n",
    "- Character shifting\n",
    "- Working with strings and ASCII values\n",
    "- Understanding the vulnerability of simple ciphers"
   ]
  },
  {
   "cell_type": "code",
   "execution_count": 1,
   "id": "7b0c7f67",
   "metadata": {},
   "outputs": [],
   "source": [
    "# 🔄 Caesar Cipher functions\n",
    "def caesar_encrypt(text, shift):\n",
    "    result = \"\"\n",
    "    for char in text:\n",
    "        if char.isalpha():\n",
    "            shift_base = ord('A') if char.isupper() else ord('a')\n",
    "            result += chr((ord(char) - shift_base + shift) % 26 + shift_base)\n",
    "        else:\n",
    "            result += char\n",
    "    return result\n",
    "\n",
    "def caesar_decrypt(text, shift):\n",
    "    return caesar_encrypt(text, -shift)"
   ]
  },
  {
   "cell_type": "code",
   "execution_count": 2,
   "id": "375f7a26",
   "metadata": {},
   "outputs": [
    {
     "name": "stdout",
     "output_type": "stream",
     "text": [
      "\n",
      "🔒 Encrypted: N qtaj dtz ktwjajw fsi jajw \n",
      "🔓 Decrypted: I love you forever and ever \n"
     ]
    }
   ],
   "source": [
    "# 🔐 Test the Caesar cipher\n",
    "text = input(\"Enter a message: \")\n",
    "shift = int(input(\"Enter shift value (1–25): \"))\n",
    "\n",
    "encoded = caesar_encrypt(text, shift)\n",
    "decoded = caesar_decrypt(encoded, shift)\n",
    "\n",
    "print(\"\\n🔒 Encrypted:\", encoded)\n",
    "print(\"🔓 Decrypted:\", decoded)"
   ]
  }
 ],
 "metadata": {
  "kernelspec": {
   "display_name": "Python 3",
   "language": "python",
   "name": "python3"
  },
  "language_info": {
   "codemirror_mode": {
    "name": "ipython",
    "version": 3
   },
   "file_extension": ".py",
   "mimetype": "text/x-python",
   "name": "python",
   "nbconvert_exporter": "python",
   "pygments_lexer": "ipython3",
   "version": "3.11.1"
  }
 },
 "nbformat": 4,
 "nbformat_minor": 5
}

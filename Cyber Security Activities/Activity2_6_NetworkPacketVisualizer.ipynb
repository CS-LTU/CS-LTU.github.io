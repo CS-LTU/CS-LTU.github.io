{
 "cells": [
  {
   "cell_type": "markdown",
   "id": "46bc15f5",
   "metadata": {},
   "source": [
    "# 🌐 Network Packet Visualizer\n",
    "Visualize mock packet transmission between clients and a server to understand basic network concepts."
   ]
  },
  {
   "cell_type": "markdown",
   "id": "a92bba48",
   "metadata": {},
   "source": [
    "## ✅ Skills Covered\n",
    "- Client-server concept\n",
    "- Data packet representation\n",
    "- Visual flow of communication"
   ]
  },
  {
   "cell_type": "code",
   "execution_count": 2,
   "id": "c8b12253",
   "metadata": {},
   "outputs": [
    {
     "data": {
      "text/markdown": [
       "**📤 Client A sending packet...**"
      ],
      "text/plain": [
       "<IPython.core.display.Markdown object>"
      ]
     },
     "metadata": {},
     "output_type": "display_data"
    },
    {
     "data": {
      "text/markdown": [
       "📡 Packet traveling through the network..."
      ],
      "text/plain": [
       "<IPython.core.display.Markdown object>"
      ]
     },
     "metadata": {},
     "output_type": "display_data"
    },
    {
     "data": {
      "text/markdown": [
       "📥 Server received packet ✔️\n",
       "---"
      ],
      "text/plain": [
       "<IPython.core.display.Markdown object>"
      ]
     },
     "metadata": {},
     "output_type": "display_data"
    },
    {
     "data": {
      "text/markdown": [
       "**📤 Client B sending packet...**"
      ],
      "text/plain": [
       "<IPython.core.display.Markdown object>"
      ]
     },
     "metadata": {},
     "output_type": "display_data"
    },
    {
     "data": {
      "text/markdown": [
       "📡 Packet traveling through the network..."
      ],
      "text/plain": [
       "<IPython.core.display.Markdown object>"
      ]
     },
     "metadata": {},
     "output_type": "display_data"
    },
    {
     "data": {
      "text/markdown": [
       "📥 Server received packet ✔️\n",
       "---"
      ],
      "text/plain": [
       "<IPython.core.display.Markdown object>"
      ]
     },
     "metadata": {},
     "output_type": "display_data"
    },
    {
     "data": {
      "text/markdown": [
       "**📤 Client C sending packet...**"
      ],
      "text/plain": [
       "<IPython.core.display.Markdown object>"
      ]
     },
     "metadata": {},
     "output_type": "display_data"
    },
    {
     "data": {
      "text/markdown": [
       "📡 Packet traveling through the network..."
      ],
      "text/plain": [
       "<IPython.core.display.Markdown object>"
      ]
     },
     "metadata": {},
     "output_type": "display_data"
    },
    {
     "data": {
      "text/markdown": [
       "📥 Server received packet ✔️\n",
       "---"
      ],
      "text/plain": [
       "<IPython.core.display.Markdown object>"
      ]
     },
     "metadata": {},
     "output_type": "display_data"
    }
   ],
   "source": [
    "from IPython.display import display, Markdown\n",
    "import time\n",
    "\n",
    "clients = ['Client A', 'Client B', 'Client C']\n",
    "for client in clients:\n",
    "    display(Markdown(f\"**📤 {client} sending packet...**\"))\n",
    "    time.sleep(1)\n",
    "    display(Markdown(\"📡 Packet traveling through the network...\"))\n",
    "    time.sleep(1)\n",
    "    display(Markdown(\"📥 Server received packet ✔️\\n---\"))\n",
    "    time.sleep(1)"
   ]
  }
 ],
 "metadata": {
  "kernelspec": {
   "display_name": "Python 3",
   "language": "python",
   "name": "python3"
  },
  "language_info": {
   "codemirror_mode": {
    "name": "ipython",
    "version": 3
   },
   "file_extension": ".py",
   "mimetype": "text/x-python",
   "name": "python",
   "nbconvert_exporter": "python",
   "pygments_lexer": "ipython3",
   "version": "3.11.1"
  }
 },
 "nbformat": 4,
 "nbformat_minor": 5
}

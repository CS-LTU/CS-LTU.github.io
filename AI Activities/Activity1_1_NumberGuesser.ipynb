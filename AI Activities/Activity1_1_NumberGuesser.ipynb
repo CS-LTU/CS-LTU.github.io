{
 "cells": [
  {
   "cell_type": "markdown",
   "id": "34fa698d",
   "metadata": {},
   "source": [
    "# 🎯 Number Guesser – Basic Random Number Prediction\n",
    "This beginner-friendly game introduces students to simple Python logic and interaction through a text-based number guessing game."
   ]
  },
  {
   "cell_type": "markdown",
   "id": "3f5876fe",
   "metadata": {},
   "source": [
    "## ✅ Skills Covered\n",
    "- Random number generation\n",
    "- Input validation\n",
    "- Conditional logic\n",
    "- Basic loops and user interaction"
   ]
  },
  {
   "cell_type": "code",
   "execution_count": 1,
   "id": "d4964f8a",
   "metadata": {},
   "outputs": [
    {
     "name": "stdout",
     "output_type": "stream",
     "text": [
      "I have picked a number between 1 and 100. Try to guess it!\n",
      "🔼 Too low. Try a higher number.\n",
      "🔼 Too low. Try a higher number.\n",
      "🔼 Too low. Try a higher number.\n",
      "🔼 Too low. Try a higher number.\n",
      "🔼 Too low. Try a higher number.\n",
      "🔽 Too high. Try a lower number.\n",
      "🔼 Too low. Try a higher number.\n",
      "🔼 Too low. Try a higher number.\n",
      "🔼 Too low. Try a higher number.\n",
      "🔽 Too high. Try a lower number.\n",
      "🔽 Too high. Try a lower number.\n",
      "🔽 Too high. Try a lower number.\n",
      "🔽 Too high. Try a lower number.\n",
      "✅ Correct! You guessed it in 14 tries.\n"
     ]
    }
   ],
   "source": [
    "# Run this cell to start the game!\n",
    "import random\n",
    "\n",
    "secret_number = random.randint(1, 100)\n",
    "attempts = 0\n",
    "\n",
    "print(\"I have picked a number between 1 and 100. Try to guess it!\")\n",
    "\n",
    "while True:\n",
    "    guess = input(\"Enter your guess: \")\n",
    "    if not guess.isdigit():\n",
    "        print(\"❌ Please enter a valid number.\")\n",
    "        continue\n",
    "\n",
    "    guess = int(guess)\n",
    "    attempts += 1\n",
    "\n",
    "    if guess == secret_number:\n",
    "        print(f\"✅ Correct! You guessed it in {attempts} tries.\")\n",
    "        break\n",
    "    elif guess < secret_number:\n",
    "        print(\"🔼 Too low. Try a higher number.\")\n",
    "    else:\n",
    "        print(\"🔽 Too high. Try a lower number.\")"
   ]
  }
 ],
 "metadata": {
  "kernelspec": {
   "display_name": "Python 3",
   "language": "python",
   "name": "python3"
  },
  "language_info": {
   "codemirror_mode": {
    "name": "ipython",
    "version": 3
   },
   "file_extension": ".py",
   "mimetype": "text/x-python",
   "name": "python",
   "nbconvert_exporter": "python",
   "pygments_lexer": "ipython3",
   "version": "3.11.1"
  }
 },
 "nbformat": 4,
 "nbformat_minor": 5
}

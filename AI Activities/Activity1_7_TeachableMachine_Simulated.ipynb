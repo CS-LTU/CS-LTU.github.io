{
 "cells": [
  {
   "cell_type": "markdown",
   "id": "19fb7b7e",
   "metadata": {},
   "source": [
    "# 🤖 Teachable Machine (Simulated Classifier)\n",
    "This activity demonstrates the idea of how a teachable machine works by simulating a very basic image classifier using predefined labels and user input."
   ]
  },
  {
   "cell_type": "markdown",
   "id": "25eaea35",
   "metadata": {},
   "source": [
    "## ✅ Skills Covered\n",
    "- Understanding classification logic\n",
    "- Simulating training with examples\n",
    "- Manual data labeling and model logic\n",
    "- Concept of supervised learning"
   ]
  },
  {
   "cell_type": "code",
   "execution_count": 1,
   "id": "3869ac80",
   "metadata": {},
   "outputs": [],
   "source": [
    "# ✅ Define sample features and labels (user-simulated)\n",
    "# Simulating training examples: brightness as feature\n",
    "examples = [\n",
    "    {'brightness': 0.1, 'label': 'dark'},\n",
    "    {'brightness': 0.3, 'label': 'dim'},\n",
    "    {'brightness': 0.6, 'label': 'bright'},\n",
    "    {'brightness': 0.9, 'label': 'very bright'}\n",
    "]"
   ]
  },
  {
   "cell_type": "code",
   "execution_count": 2,
   "id": "d18312b7",
   "metadata": {},
   "outputs": [],
   "source": [
    "# 🧠 Function to predict label based on brightness level\n",
    "def predict(brightness):\n",
    "    closest = min(examples, key=lambda x: abs(x['brightness'] - brightness))\n",
    "    return closest['label']"
   ]
  },
  {
   "cell_type": "code",
   "execution_count": 3,
   "id": "97dd5761",
   "metadata": {},
   "outputs": [
    {
     "name": "stdout",
     "output_type": "stream",
     "text": [
      "Predicted label: bright\n"
     ]
    }
   ],
   "source": [
    "# 🎛️ Test the simulated model\n",
    "user_input = float(input(\"Enter a brightness value (0 to 1): \"))\n",
    "predicted = predict(user_input)\n",
    "print(f\"Predicted label: {predicted}\")"
   ]
  }
 ],
 "metadata": {
  "kernelspec": {
   "display_name": "Python 3",
   "language": "python",
   "name": "python3"
  },
  "language_info": {
   "codemirror_mode": {
    "name": "ipython",
    "version": 3
   },
   "file_extension": ".py",
   "mimetype": "text/x-python",
   "name": "python",
   "nbconvert_exporter": "python",
   "pygments_lexer": "ipython3",
   "version": "3.11.1"
  }
 },
 "nbformat": 4,
 "nbformat_minor": 5
}

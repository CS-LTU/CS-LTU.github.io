{
 "cells": [
  {
   "cell_type": "markdown",
   "id": "85f12486",
   "metadata": {},
   "source": [
    "# 🖼️ Image Classifier using Pre-trained Model\n",
    "This activity uses the `transformers` library to classify images using a pre-trained vision model from HuggingFace."
   ]
  },
  {
   "cell_type": "markdown",
   "id": "08643290",
   "metadata": {},
   "source": [
    "## ✅ Skills Covered\n",
    "- Image classification\n",
    "- Using HuggingFace vision models\n",
    "- Handling image input in Colab\n",
    "- Tensor operations"
   ]
  },
  {
   "cell_type": "code",
   "execution_count": 2,
   "id": "e3950783",
   "metadata": {},
   "outputs": [
    {
     "name": "stderr",
     "output_type": "stream",
     "text": [
      "\n",
      "[notice] A new release of pip is available: 23.2 -> 25.1.1\n",
      "[notice] To update, run: python.exe -m pip install --upgrade pip\n"
     ]
    }
   ],
   "source": [
    "# 📦 Install required libraries (run in Colab)\n",
    "!pip install transformers torchvision pillow --quiet"
   ]
  },
  {
   "cell_type": "code",
   "execution_count": 3,
   "id": "b9fb0455",
   "metadata": {},
   "outputs": [
    {
     "name": "stderr",
     "output_type": "stream",
     "text": [
      "C:\\Users\\Y.Baradaranshokouhi\\AppData\\Roaming\\Python\\Python311\\site-packages\\tqdm\\auto.py:21: TqdmWarning: IProgress not found. Please update jupyter and ipywidgets. See https://ipywidgets.readthedocs.io/en/stable/user_install.html\n",
      "  from .autonotebook import tqdm as notebook_tqdm\n"
     ]
    }
   ],
   "source": [
    "# ✅ Import libraries\n",
    "from transformers import AutoFeatureExtractor, AutoModelForImageClassification\n",
    "from PIL import Image\n",
    "import requests\n",
    "import torch"
   ]
  },
  {
   "cell_type": "code",
   "execution_count": 6,
   "id": "04fb8c3e",
   "metadata": {},
   "outputs": [],
   "source": [
    "# 📷 Load an image from a URL (you can change the URL)\n",
    "image_url = 'https://www.amalgamcollection.com/cdn/shop/products/DSCF4816WIDEEDIT_800x533_crop_center.jpg?v=1639420007'\n",
    "image = Image.open(requests.get(image_url, stream=True).raw)"
   ]
  },
  {
   "cell_type": "code",
   "execution_count": 7,
   "id": "a02a2b93",
   "metadata": {},
   "outputs": [
    {
     "name": "stderr",
     "output_type": "stream",
     "text": [
      "C:\\Users\\Y.Baradaranshokouhi\\AppData\\Roaming\\Python\\Python311\\site-packages\\huggingface_hub\\file_download.py:143: UserWarning: `huggingface_hub` cache-system uses symlinks by default to efficiently store duplicated files but your machine does not support them in C:\\Users\\Y.Baradaranshokouhi\\.cache\\huggingface\\hub\\models--google--vit-base-patch16-224. Caching files will still work but in a degraded version that might require more space on your disk. This warning can be disabled by setting the `HF_HUB_DISABLE_SYMLINKS_WARNING` environment variable. For more details, see https://huggingface.co/docs/huggingface_hub/how-to-cache#limitations.\n",
      "To support symlinks on Windows, you either need to activate Developer Mode or to run Python as an administrator. In order to activate developer mode, see this article: https://docs.microsoft.com/en-us/windows/apps/get-started/enable-your-device-for-development\n",
      "  warnings.warn(message)\n",
      "C:\\Users\\Y.Baradaranshokouhi\\AppData\\Roaming\\Python\\Python311\\site-packages\\transformers\\models\\vit\\feature_extraction_vit.py:30: FutureWarning: The class ViTFeatureExtractor is deprecated and will be removed in version 5 of Transformers. Please use ViTImageProcessor instead.\n",
      "  warnings.warn(\n",
      "Xet Storage is enabled for this repo, but the 'hf_xet' package is not installed. Falling back to regular HTTP download. For better performance, install the package with: `pip install huggingface_hub[hf_xet]` or `pip install hf_xet`\n"
     ]
    },
    {
     "name": "stdout",
     "output_type": "stream",
     "text": [
      "Predicted Label: sports car, sport car\n"
     ]
    }
   ],
   "source": [
    "# 🧠 Load model and extract features\n",
    "model_name = \"google/vit-base-patch16-224\"\n",
    "extractor = AutoFeatureExtractor.from_pretrained(model_name)\n",
    "model = AutoModelForImageClassification.from_pretrained(model_name)\n",
    "\n",
    "inputs = extractor(images=image, return_tensors=\"pt\")\n",
    "outputs = model(**inputs)\n",
    "predicted_class_idx = outputs.logits.argmax(-1).item()\n",
    "label = model.config.id2label[predicted_class_idx]\n",
    "\n",
    "print(f\"Predicted Label: {label}\")"
   ]
  }
 ],
 "metadata": {
  "kernelspec": {
   "display_name": "Python 3",
   "language": "python",
   "name": "python3"
  },
  "language_info": {
   "codemirror_mode": {
    "name": "ipython",
    "version": 3
   },
   "file_extension": ".py",
   "mimetype": "text/x-python",
   "name": "python",
   "nbconvert_exporter": "python",
   "pygments_lexer": "ipython3",
   "version": "3.11.1"
  }
 },
 "nbformat": 4,
 "nbformat_minor": 5
}

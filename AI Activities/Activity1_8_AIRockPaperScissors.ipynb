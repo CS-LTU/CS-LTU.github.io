{
 "cells": [
  {
   "cell_type": "markdown",
   "id": "63c06d16",
   "metadata": {},
   "source": [
    "# ✊🖐️✌️ AI Rock-Paper-Scissors\n",
    "This activity creates a simple game where the computer randomly selects rock, paper, or scissors and compares it to the user’s choice."
   ]
  },
  {
   "cell_type": "markdown",
   "id": "2d97851c",
   "metadata": {},
   "source": [
    "## ✅ Skills Covered\n",
    "- Random selection and conditional logic\n",
    "- Game rules and logic implementation\n",
    "- User input handling\n",
    "- Comparing player vs computer choices"
   ]
  },
  {
   "cell_type": "code",
   "execution_count": 1,
   "id": "698449c7",
   "metadata": {},
   "outputs": [],
   "source": [
    "# 🎮 Define possible moves and rules\n",
    "import random\n",
    "moves = ['rock', 'paper', 'scissors']\n",
    "\n",
    "rules = {\n",
    "    'rock': 'scissors',\n",
    "    'scissors': 'paper',\n",
    "    'paper': 'rock'\n",
    "}"
   ]
  },
  {
   "cell_type": "code",
   "execution_count": null,
   "id": "c20a9455",
   "metadata": {},
   "outputs": [],
   "source": [
    "# 🤖 Let the AI choose its move\n",
    "computer_move = random.choice(moves)\n",
    "user_move = input(\"Choose rock, paper or scissors: \").strip().lower()\n",
    "\n",
    "if user_move not in moves:\n",
    "    print(\"Invalid input. Please choose rock, paper, or scissors.\")\n",
    "else:\n",
    "    print(f\"Computer chose: {computer_move}\")\n",
    "    if user_move == computer_move:\n",
    "        print(\"It's a draw!\")\n",
    "    elif rules[user_move] == computer_move:\n",
    "        print(\"You win!\")\n",
    "    else:\n",
    "        print(\"You lose!\")"
   ]
  }
 ],
 "metadata": {
  "kernelspec": {
   "display_name": "Python 3",
   "language": "python",
   "name": "python3"
  },
  "language_info": {
   "codemirror_mode": {
    "name": "ipython",
    "version": 3
   },
   "file_extension": ".py",
   "mimetype": "text/x-python",
   "name": "python",
   "nbconvert_exporter": "python",
   "pygments_lexer": "ipython3",
   "version": "3.11.1"
  }
 },
 "nbformat": 4,
 "nbformat_minor": 5
}

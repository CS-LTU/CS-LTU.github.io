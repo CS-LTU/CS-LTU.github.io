{
 "cells": [
  {
   "cell_type": "markdown",
   "id": "e894e514",
   "metadata": {},
   "source": [
    "# 🎨 AI Art Generator (Text-to-Image)\n",
    "This activity uses HuggingFace's Diffusers to turn text prompts into AI-generated art images."
   ]
  },
  {
   "cell_type": "markdown",
   "id": "77720c8b",
   "metadata": {},
   "source": [
    "## ✅ Skills Covered\n",
    "- Generative AI for images\n",
    "- Prompt engineering\n",
    "- Text-to-image translation\n",
    "- Using `diffusers` and `transformers` libraries"
   ]
  },
  {
   "cell_type": "code",
   "execution_count": null,
   "id": "d58f205d",
   "metadata": {},
   "outputs": [],
   "source": [
    "# 📦 Install necessary packages\n",
    "!pip install diffusers transformers accelerate safetensors --quiet"
   ]
  },
  {
   "cell_type": "code",
   "execution_count": null,
   "id": "3b40705c",
   "metadata": {},
   "outputs": [],
   "source": [
    "# 🧠 Load Stable Diffusion model from HuggingFace\n",
    "from diffusers import StableDiffusionPipeline\n",
    "import torch\n",
    "\n",
    "pipe = StableDiffusionPipeline.from_pretrained(\"runwayml/stable-diffusion-v1-5\", torch_dtype=torch.float16)\n",
    "pipe = pipe.to(\"cuda\" if torch.cuda.is_available() else \"cpu\")"
   ]
  },
  {
   "cell_type": "code",
   "execution_count": null,
   "id": "b8008953",
   "metadata": {},
   "outputs": [],
   "source": [
    "# 🖼️ Generate an image from prompt\n",
    "prompt = input(\"Enter your art prompt: \")\n",
    "image = pipe(prompt).images[0]\n",
    "image.show()"
   ]
  }
 ],
 "metadata": {},
 "nbformat": 4,
 "nbformat_minor": 5
}

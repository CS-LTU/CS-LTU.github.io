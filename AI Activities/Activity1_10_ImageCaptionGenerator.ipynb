{
 "cells": [
  {
   "cell_type": "markdown",
   "id": "6260bfd4",
   "metadata": {},
   "source": [
    "# 🖼️📝 Image Caption Generator\n",
    "This activity uses a pre-trained vision-language model to describe an image with a text caption."
   ]
  },
  {
   "cell_type": "markdown",
   "id": "0a698dec",
   "metadata": {},
   "source": [
    "## ✅ Skills Covered\n",
    "- Vision-language model usage\n",
    "- Image understanding\n",
    "- Caption generation\n",
    "- Using `transformers` for image-to-text tasks"
   ]
  },
  {
   "cell_type": "code",
   "execution_count": null,
   "id": "fc9a0fe5",
   "metadata": {},
   "outputs": [],
   "source": [
    "# 📦 Install required libraries\n",
    "!pip install transformers pillow requests --quiet"
   ]
  },
  {
   "cell_type": "code",
   "execution_count": null,
   "id": "3257adab",
   "metadata": {},
   "outputs": [],
   "source": [
    "# 📥 Load an image from the web\n",
    "from PIL import Image\n",
    "import requests\n",
    "from transformers import BlipProcessor, BlipForConditionalGeneration\n",
    "\n",
    "url = \"https://images.pexels.com/photos/1108099/pexels-photo-1108099.jpeg\"\n",
    "image = Image.open(requests.get(url, stream=True).raw)\n",
    "image.show()"
   ]
  },
  {
   "cell_type": "code",
   "execution_count": null,
   "id": "54d0441f",
   "metadata": {},
   "outputs": [],
   "source": [
    "# 🧠 Generate caption using BLIP model\n",
    "processor = BlipProcessor.from_pretrained(\"Salesforce/blip-image-captioning-base\")\n",
    "model = BlipForConditionalGeneration.from_pretrained(\"Salesforce/blip-image-captioning-base\")\n",
    "\n",
    "inputs = processor(images=image, return_tensors=\"pt\")\n",
    "out = model.generate(**inputs)\n",
    "\n",
    "print(\"\\nGenerated Caption:\", processor.decode(out[0], skip_special_tokens=True))"
   ]
  }
 ],
 "metadata": {},
 "nbformat": 4,
 "nbformat_minor": 5
}
